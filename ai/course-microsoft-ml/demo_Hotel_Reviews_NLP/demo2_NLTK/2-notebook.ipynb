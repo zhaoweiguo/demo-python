{
 "cells": [
  {
   "cell_type": "code",
   "execution_count": 1,
   "metadata": {},
   "outputs": [],
   "source": [
    "# Load the hotel reviews from CSV (you can )\n",
    "import pandas as pd \n",
    "\n",
    "df = pd.read_csv('../data/Hotel_Reviews_Filtered.csv')\n"
   ]
  },
  {
   "cell_type": "code",
   "execution_count": 2,
   "metadata": {},
   "outputs": [
    {
     "data": {
      "text/plain": [
       "0         [' Leisure trip ', ' Couple ', ' Duplex Double...\n",
       "1         [' Leisure trip ', ' Couple ', ' Duplex Double...\n",
       "2         [' Leisure trip ', ' Family with young childre...\n",
       "3         [' Leisure trip ', ' Solo traveler ', ' Duplex...\n",
       "4         [' Leisure trip ', ' Couple ', ' Suite ', ' St...\n",
       "                                ...                        \n",
       "515733    [' Leisure trip ', ' Family with older childre...\n",
       "515734    [' Leisure trip ', ' Family with young childre...\n",
       "515735    [' Leisure trip ', ' Family with older childre...\n",
       "515736    [' Leisure trip ', ' Group ', ' Standard Tripl...\n",
       "515737    [' Leisure trip ', ' Family with young childre...\n",
       "Name: Tags, Length: 515738, dtype: object"
      ]
     },
     "execution_count": 2,
     "metadata": {},
     "output_type": "execute_result"
    }
   ],
   "source": [
    "df.Tags"
   ]
  },
  {
   "cell_type": "code",
   "execution_count": 3,
   "metadata": {},
   "outputs": [],
   "source": [
    "# We want to find the most useful tags to keep\n",
    "# Remove opening and closing brackets\n",
    "# 移除每个元素两侧的方括号（[]）和单引号（'）\n",
    "df.Tags = df.Tags.str.strip(\"[']\")\n",
    "# remove all quotes too\n",
    "df.Tags = df.Tags.str.replace(\" ', '\", \",\", regex = False)\n"
   ]
  },
  {
   "cell_type": "code",
   "execution_count": 4,
   "metadata": {},
   "outputs": [
    {
     "data": {
      "text/plain": [
       "0          Leisure trip, Couple, Duplex Double Room, Sta...\n",
       "1          Leisure trip, Couple, Duplex Double Room, Sta...\n",
       "2          Leisure trip, Family with young children, Dup...\n",
       "3          Leisure trip, Solo traveler, Duplex Double Ro...\n",
       "4          Leisure trip, Couple, Suite, Stayed 2 nights,...\n",
       "                                ...                        \n",
       "515733     Leisure trip, Family with older children, 2 r...\n",
       "515734     Leisure trip, Family with young children, Sta...\n",
       "515735     Leisure trip, Family with older children, 2 r...\n",
       "515736     Leisure trip, Group, Standard Triple Room, St...\n",
       "515737     Leisure trip, Family with young children, 2 r...\n",
       "Name: Tags, Length: 515738, dtype: object"
      ]
     },
     "execution_count": 4,
     "metadata": {},
     "output_type": "execute_result"
    }
   ],
   "source": [
    "df.Tags"
   ]
  },
  {
   "cell_type": "code",
   "execution_count": 5,
   "metadata": {},
   "outputs": [],
   "source": [
    "# removing this to take advantage of the 'already a phrase' fact of the dataset \n",
    "# Now split the strings into a list\n",
    "tag_list_df = df.Tags.str.split(',', expand = True)\n"
   ]
  },
  {
   "cell_type": "code",
   "execution_count": 6,
   "metadata": {},
   "outputs": [],
   "source": [
    "# Remove leading and trailing spaces\n",
    "df[\"Tag_1\"] = tag_list_df[0].str.strip()\n",
    "df[\"Tag_2\"] = tag_list_df[1].str.strip()\n",
    "df[\"Tag_3\"] = tag_list_df[2].str.strip()\n",
    "df[\"Tag_4\"] = tag_list_df[3].str.strip()\n",
    "df[\"Tag_5\"] = tag_list_df[4].str.strip()\n",
    "df[\"Tag_6\"] = tag_list_df[5].str.strip()\n"
   ]
  },
  {
   "cell_type": "code",
   "execution_count": 8,
   "metadata": {},
   "outputs": [],
   "source": [
    "# Merge the 6 columns into one with melt\n",
    "df_tags = df.melt(value_vars=[\"Tag_1\", \"Tag_2\", \"Tag_3\", \"Tag_4\", \"Tag_5\", \"Tag_6\"])\n"
   ]
  },
  {
   "cell_type": "code",
   "execution_count": 9,
   "metadata": {},
   "outputs": [
    {
     "data": {
      "text/html": [
       "<div>\n",
       "<style scoped>\n",
       "    .dataframe tbody tr th:only-of-type {\n",
       "        vertical-align: middle;\n",
       "    }\n",
       "\n",
       "    .dataframe tbody tr th {\n",
       "        vertical-align: top;\n",
       "    }\n",
       "\n",
       "    .dataframe thead th {\n",
       "        text-align: right;\n",
       "    }\n",
       "</style>\n",
       "<table border=\"1\" class=\"dataframe\">\n",
       "  <thead>\n",
       "    <tr style=\"text-align: right;\">\n",
       "      <th></th>\n",
       "      <th>variable</th>\n",
       "      <th>value</th>\n",
       "    </tr>\n",
       "  </thead>\n",
       "  <tbody>\n",
       "    <tr>\n",
       "      <th>0</th>\n",
       "      <td>Tag_1</td>\n",
       "      <td>Leisure trip</td>\n",
       "    </tr>\n",
       "    <tr>\n",
       "      <th>1</th>\n",
       "      <td>Tag_1</td>\n",
       "      <td>Leisure trip</td>\n",
       "    </tr>\n",
       "    <tr>\n",
       "      <th>2</th>\n",
       "      <td>Tag_1</td>\n",
       "      <td>Leisure trip</td>\n",
       "    </tr>\n",
       "    <tr>\n",
       "      <th>3</th>\n",
       "      <td>Tag_1</td>\n",
       "      <td>Leisure trip</td>\n",
       "    </tr>\n",
       "    <tr>\n",
       "      <th>4</th>\n",
       "      <td>Tag_1</td>\n",
       "      <td>Leisure trip</td>\n",
       "    </tr>\n",
       "    <tr>\n",
       "      <th>...</th>\n",
       "      <td>...</td>\n",
       "      <td>...</td>\n",
       "    </tr>\n",
       "    <tr>\n",
       "      <th>3094423</th>\n",
       "      <td>Tag_6</td>\n",
       "      <td>None</td>\n",
       "    </tr>\n",
       "    <tr>\n",
       "      <th>3094424</th>\n",
       "      <td>Tag_6</td>\n",
       "      <td>None</td>\n",
       "    </tr>\n",
       "    <tr>\n",
       "      <th>3094425</th>\n",
       "      <td>Tag_6</td>\n",
       "      <td>None</td>\n",
       "    </tr>\n",
       "    <tr>\n",
       "      <th>3094426</th>\n",
       "      <td>Tag_6</td>\n",
       "      <td>None</td>\n",
       "    </tr>\n",
       "    <tr>\n",
       "      <th>3094427</th>\n",
       "      <td>Tag_6</td>\n",
       "      <td>None</td>\n",
       "    </tr>\n",
       "  </tbody>\n",
       "</table>\n",
       "<p>3094428 rows × 2 columns</p>\n",
       "</div>"
      ],
      "text/plain": [
       "        variable         value\n",
       "0          Tag_1  Leisure trip\n",
       "1          Tag_1  Leisure trip\n",
       "2          Tag_1  Leisure trip\n",
       "3          Tag_1  Leisure trip\n",
       "4          Tag_1  Leisure trip\n",
       "...          ...           ...\n",
       "3094423    Tag_6          None\n",
       "3094424    Tag_6          None\n",
       "3094425    Tag_6          None\n",
       "3094426    Tag_6          None\n",
       "3094427    Tag_6          None\n",
       "\n",
       "[3094428 rows x 2 columns]"
      ]
     },
     "execution_count": 9,
     "metadata": {},
     "output_type": "execute_result"
    }
   ],
   "source": [
    "df_tags"
   ]
  },
  {
   "cell_type": "code",
   "execution_count": 10,
   "metadata": {},
   "outputs": [
    {
     "name": "stdout",
     "output_type": "stream",
     "text": [
      "The shape of the tags with no filtering: (3094428, 2)\n",
      "                        value   count\n",
      "0                Leisure trip  417778\n",
      "1                      Couple  252294\n",
      "2               Solo traveler  108545\n",
      "3               Business trip   82939\n",
      "4                       Group   65392\n",
      "5  Family with young children   61015\n",
      "6  Family with older children   26349\n",
      "7      Travelers with friends    2143\n",
      "8                  With a pet    1405\n"
     ]
    }
   ],
   "source": [
    "# Get the value counts\n",
    "tag_vc = df_tags.value.value_counts()\n",
    "# print(tag_vc)\n",
    "print(\"The shape of the tags with no filtering:\", str(df_tags.shape))\n",
    "# Drop rooms, suites, and length of stay, mobile device and anything with less count than a 1000\n",
    "df_tags = df_tags[~df_tags.value.str.contains(\"Standard|room|Stayed|device|Beds|Suite|Studio|King|Superior|Double\", na=False, case=False)]\n",
    "tag_vc = df_tags.value.value_counts().reset_index(name=\"count\").query(\"count > 1000\")\n",
    "# Print the top 10 (there should only be 9 and we'll use these in the filtering section)\n",
    "print(tag_vc[:10])"
   ]
  }
 ],
 "metadata": {
  "interpreter": {
   "hash": "70b38d7a306a849643e446cd70466270a13445e5987dfa1344ef2b127438fa4d"
  },
  "kernelspec": {
   "display_name": "Python 3.7.0 64-bit ('3.7')",
   "name": "python3"
  },
  "language_info": {
   "codemirror_mode": {
    "name": "ipython",
    "version": 3
   },
   "file_extension": ".py",
   "mimetype": "text/x-python",
   "name": "python",
   "nbconvert_exporter": "python",
   "pygments_lexer": "ipython3",
   "version": "3.10.11"
  },
  "orig_nbformat": 4
 },
 "nbformat": 4,
 "nbformat_minor": 2
}
