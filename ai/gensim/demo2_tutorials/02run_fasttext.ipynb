{
  "cells": [
    {
      "cell_type": "code",
      "execution_count": null,
      "metadata": {
        "collapsed": false
      },
      "outputs": [],
      "source": [
        "%matplotlib inline"
      ]
    },
    {
      "cell_type": "markdown",
      "metadata": {},
      "source": [
        "[toc]"
      ]
    },
    {
      "cell_type": "markdown",
      "metadata": {},
      "source": [
        "\n",
        "# FastText Model\n",
        "\n",
        "Introduces Gensim's fastText model and demonstrates its use on the Lee Corpus.\n"
      ]
    },
    {
      "cell_type": "code",
      "execution_count": null,
      "metadata": {
        "collapsed": false
      },
      "outputs": [],
      "source": [
        "import logging\n",
        "logging.basicConfig(format='%(asctime)s : %(levelname)s : %(message)s', level=logging.INFO)"
      ]
    },
    {
      "cell_type": "markdown",
      "metadata": {},
      "source": [
        "Here, we'll learn to work with fastText library for training word-embedding\n",
        "models, saving & loading them and performing similarity operations & vector\n",
        "lookups analogous to Word2Vec.\n",
        "\n"
      ]
    },
    {
      "cell_type": "markdown",
      "metadata": {},
      "source": [
        "## Training models\n",
        "\n",
        "\n"
      ]
    },
    {
      "cell_type": "code",
      "execution_count": null,
      "metadata": {
        "collapsed": false
      },
      "outputs": [],
      "source": [
        "from pprint import pprint as print\n",
        "from gensim.models.fasttext import FastText\n",
        "from gensim.test.utils import datapath\n",
        "\n",
        "# Set file names for train and test data\n",
        "corpus_file = datapath('lee_background.cor')\n",
        "\n",
        "model = FastText(vector_size=100)\n",
        "\n",
        "# build the vocabulary\n",
        "model.build_vocab(corpus_file=corpus_file)\n",
        "\n",
        "# train the model\n",
        "model.train(\n",
        "    corpus_file=corpus_file, epochs=model.epochs,\n",
        "    total_examples=model.corpus_count, total_words=model.corpus_total_words,\n",
        ")\n",
        "\n",
        "print(model)"
      ]
    },
    {
      "cell_type": "markdown",
      "metadata": {},
      "source": [
        "\n",
        "```log\n",
        "2022-10-23 11:05:20,779 : INFO : adding document #0 to Dictionary<0 unique tokens: []>\n",
        "2022-10-23 11:05:20,779 : INFO : built Dictionary<12 unique tokens: ['computer', 'human', 'interface', 'response', 'survey']...> from 9 documents (total 29 corpus positions)\n",
        "2022-10-23 11:05:20,782 : INFO : Dictionary lifecycle event {'msg': \"built Dictionary<12 unique tokens: ['computer', 'human', 'interface', 'response', 'survey']...> from 9 documents (total 29 corpus positions)\", 'datetime': '2022-10-23T11:05:20.780094', 'gensim': '4.2.1.dev0', 'python': '3.10.6 (main, Aug 10 2022, 11:40:04) [GCC 11.3.0]', 'platform': 'Linux-5.19.0-76051900-generic-x86_64-with-glibc2.35', 'event': 'created'}\n",
        "2022-10-23 11:05:20,858 : INFO : FastText lifecycle event {'params': 'FastText<vocab=0, vector_size=100, alpha=0.025>', 'datetime': '2022-10-23T11:05:20.858457', 'gensim': '4.2.1.dev0', 'python': '3.10.6 (main, Aug 10 2022, 11:40:04) [GCC 11.3.0]', 'platform': 'Linux-5.19.0-76051900-generic-x86_64-with-glibc2.35', 'event': 'created'}\n",
        "2022-10-23 11:05:20,858 : INFO : collecting all words and their counts\n",
        "2022-10-23 11:05:20,858 : INFO : PROGRESS: at sentence #0, processed 0 words, keeping 0 word types\n",
        "2022-10-23 11:05:20,874 : INFO : collected 10781 word types from a corpus of 59890 raw words and 300 sentences\n",
        "2022-10-23 11:05:20,874 : INFO : Creating a fresh vocabulary\n",
        "2022-10-23 11:05:20,882 : INFO : FastText lifecycle event {'msg': 'effective_min_count=5 retains 1762 unique words (16.34% of original 10781, drops 9019)', 'datetime': '2022-10-23T11:05:20.882842', 'gensim': '4.2.1.dev0', 'python': '3.10.6 (main, Aug 10 2022, 11:40:04) [GCC 11.3.0]', 'platform': 'Linux-5.19.0-76051900-generic-x86_64-with-glibc2.35', 'event': 'prepare_vocab'}\n",
        "2022-10-23 11:05:20,882 : INFO : FastText lifecycle event {'msg': 'effective_min_count=5 leaves 46084 word corpus (76.95% of original 59890, drops 13806)', 'datetime': '2022-10-23T11:05:20.882944', 'gensim': '4.2.1.dev0', 'python': '3.10.6 (main, Aug 10 2022, 11:40:04) [GCC 11.3.0]', 'platform': 'Linux-5.19.0-76051900-generic-x86_64-with-glibc2.35', 'event': 'prepare_vocab'}\n",
        "2022-10-23 11:05:20,892 : INFO : deleting the raw counts dictionary of 10781 items\n",
        "2022-10-23 11:05:20,892 : INFO : sample=0.001 downsamples 45 most-common words\n",
        "2022-10-23 11:05:20,893 : INFO : FastText lifecycle event {'msg': 'downsampling leaves estimated 32610.61883565215 word corpus (70.8%% of prior 46084)', 'datetime': '2022-10-23T11:05:20.893011', 'gensim': '4.2.1.dev0', 'python': '3.10.6 (main, Aug 10 2022, 11:40:04) [GCC 11.3.0]', 'platform': 'Linux-5.19.0-76051900-generic-x86_64-with-glibc2.35', 'event': 'prepare_vocab'}\n",
        "2022-10-23 11:05:20,927 : INFO : estimated required memory for 1762 words, 2000000 buckets and 100 dimensions: 802597824 bytes\n",
        "2022-10-23 11:05:20,927 : INFO : resetting layer weights\n",
        "2022-10-23 11:05:22,169 : INFO : FastText lifecycle event {'update': False, 'trim_rule': 'None', 'datetime': '2022-10-23T11:05:22.169699', 'gensim': '4.2.1.dev0', 'python': '3.10.6 (main, Aug 10 2022, 11:40:04) [GCC 11.3.0]', 'platform': 'Linux-5.19.0-76051900-generic-x86_64-with-glibc2.35', 'event': 'build_vocab'}\n",
        "2022-10-23 11:05:22,169 : INFO : FastText lifecycle event {'msg': 'training model with 3 workers on 1762 vocabulary and 100 features, using sg=0 hs=0 sample=0.001 negative=5 window=5 shrink_windows=True', 'datetime': '2022-10-23T11:05:22.169966', 'gensim': '4.2.1.dev0', 'python': '3.10.6 (main, Aug 10 2022, 11:40:04) [GCC 11.3.0]', 'platform': 'Linux-5.19.0-76051900-generic-x86_64-with-glibc2.35', 'event': 'train'}\n",
        "2022-10-23 11:05:22,273 : INFO : EPOCH 0: training on 60387 raw words (32958 effective words) took 0.1s, 355842 effective words/s\n",
        "2022-10-23 11:05:22,369 : INFO : EPOCH 1: training on 60387 raw words (32906 effective words) took 0.1s, 369792 effective words/s\n",
        "2022-10-23 11:05:22,466 : INFO : EPOCH 2: training on 60387 raw words (32863 effective words) took 0.1s, 361340 effective words/s\n",
        "2022-10-23 11:05:22,563 : INFO : EPOCH 3: training on 60387 raw words (32832 effective words) took 0.1s, 363904 effective words/s\n",
        "2022-10-23 11:05:22,662 : INFO : EPOCH 4: training on 60387 raw words (32827 effective words) took 0.1s, 355536 effective words/s\n",
        "2022-10-23 11:05:22,662 : INFO : FastText lifecycle event {'msg': 'training on 301935 raw words (164386 effective words) took 0.5s, 333704 effective words/s', 'datetime': '2022-10-23T11:05:22.662680', 'gensim': '4.2.1.dev0', 'python': '3.10.6 (main, Aug 10 2022, 11:40:04) [GCC 11.3.0]', 'platform': 'Linux-5.19.0-76051900-generic-x86_64-with-glibc2.35', 'event': 'train'}\n",
        "<gensim.models.fasttext.FastText object at 0x7f112f39db70>\n",
        "```"
      ]
    },
    {
      "cell_type": "markdown",
      "metadata": {},
      "source": [
        "## Saving/loading models"
      ]
    },
    {
      "cell_type": "code",
      "execution_count": null,
      "metadata": {
        "collapsed": false
      },
      "outputs": [],
      "source": [
        "# Save a model trained via Gensim's fastText implementation to temp.\n",
        "import tempfile\n",
        "import os\n",
        "with tempfile.NamedTemporaryFile(prefix='saved_model_gensim-', delete=False) as tmp:\n",
        "    model.save(tmp.name, separately=[])\n",
        "\n",
        "# Load back the same model.\n",
        "loaded_model = FastText.load(tmp.name)\n",
        "print(loaded_model)\n",
        "\n",
        "os.unlink(tmp.name)  # demonstration complete, don't need the temp file anymore"
      ]
    },
    {
      "cell_type": "markdown",
      "metadata": {},
      "source": [
        "## Word vector lookup\n",
        "\n",
        "- 查找 fastText 单词（包括 OOV 单词）所需的所有信息都包含在其 model.wv 属性中\n",
        "- 如果您不需要继续训练模型，您可以导出并保存此 .wv 属性并丢弃模型，以节省空间和 RAM"
      ]
    },
    {
      "cell_type": "code",
      "execution_count": null,
      "metadata": {
        "collapsed": false
      },
      "outputs": [],
      "source": [
        "wv = model.wv\n",
        "print(wv)\n",
        "# <gensim.models.fasttext.FastTextKeyedVectors object at 0x7f112f39c2e0>\n",
        "\n",
        "\n",
        "#\n",
        "# FastText models support vector lookups for out-of-vocabulary words by summing up character ngrams belonging to the word.\n",
        "#\n",
        "print('night' in wv.key_to_index)   # True\n",
        "print('nights' in wv.key_to_index)  # False"
      ]
    },
    {
      "cell_type": "code",
      "execution_count": null,
      "metadata": {
        "collapsed": false
      },
      "outputs": [],
      "source": [
        "print(wv['night'])"
      ]
    },
    {
      "cell_type": "markdown",
      "metadata": {},
      "source": [
        "```python\n",
        "array([-0.19996722,  0.1813906 , -0.2631422 , -0.09450997,  0.0605551 ,\n",
        "        0.38595745,  0.30778143,  0.5067505 ,  0.23698695, -0.23913051,\n",
        "        ... ...\n",
        "        0.59728205, -0.2217386 , -0.29148448, -0.01873052, -0.2401561 ],\n",
        "      dtype=float32)\n",
        "```"
      ]
    },
    {
      "cell_type": "code",
      "execution_count": null,
      "metadata": {
        "collapsed": false
      },
      "outputs": [],
      "source": [
        "print(wv['nights'])"
      ]
    },
    {
      "cell_type": "markdown",
      "metadata": {},
      "source": [
        "```python\n",
        "array([-0.17333212,  0.15747589, -0.22726758, -0.08140025,  0.05103909,\n",
        "        0.33196837,  0.2670658 ,  0.43939307,  0.205082  , -0.20810795,\n",
        "        ...\n",
        "        0.5156855 , -0.19275527, -0.24794976, -0.01581961, -0.2081413 ],\n",
        "      dtype=float32)\n",
        "```"
      ]
    },
    {
      "cell_type": "markdown",
      "metadata": {},
      "source": [
        "## Similarity operations\n",
        "\n",
        "\n"
      ]
    },
    {
      "cell_type": "markdown",
      "metadata": {},
      "source": [
        "Similarity operations work the same way as word2vec."
      ]
    },
    {
      "cell_type": "code",
      "execution_count": null,
      "metadata": {
        "collapsed": false
      },
      "outputs": [],
      "source": [
        "# Out-of-vocabulary words can also be used, provided they have at least one character ngram present in the training data.\n",
        "print(wv.similarity(\"night\", \"nights\")) # 0.9999918"
      ]
    },
    {
      "cell_type": "markdown",
      "metadata": {},
      "source": [
        "### Other similarity operations\n",
        "\n",
        "The example training corpus is a toy corpus, results are not expected to be good, for proof-of-concept only\n",
        "\n"
      ]
    },
    {
      "cell_type": "code",
      "execution_count": null,
      "metadata": {
        "collapsed": false
      },
      "outputs": [],
      "source": [
        "print(wv.most_similar(\"nights\"))"
      ]
    },
    {
      "cell_type": "markdown",
      "metadata": {},
      "source": [
        "```python\n",
        "[('night', 0.9999918341636658),\n",
        " ('rights', 0.9999877214431763),\n",
        " ('flights', 0.9999877214431763),\n",
        " ('overnight', 0.999987006187439),\n",
        " ('fighting', 0.9999857544898987),\n",
        " ('fighters', 0.9999855160713196),\n",
        " ('fight', 0.9999852180480957),\n",
        " ('entered', 0.9999851584434509),\n",
        " ('fighter', 0.999984860420227),\n",
        " ('eight', 0.999984622001648)]\n",
        "```"
      ]
    },
    {
      "cell_type": "code",
      "execution_count": null,
      "metadata": {
        "collapsed": false
      },
      "outputs": [],
      "source": [
        "print(wv.n_similarity(['sushi', 'shop'], ['japanese', 'restaurant']))   # 0.99993986"
      ]
    },
    {
      "cell_type": "code",
      "execution_count": null,
      "metadata": {
        "collapsed": false
      },
      "outputs": [],
      "source": [
        "print(wv.doesnt_match(\"breakfast cereal dinner lunch\".split()))        # 'lunch'"
      ]
    },
    {
      "cell_type": "code",
      "execution_count": null,
      "metadata": {
        "collapsed": false
      },
      "outputs": [],
      "source": [
        "print(wv.most_similar(positive=['baghdad', 'england'], negative=['london'])) "
      ]
    },
    {
      "cell_type": "markdown",
      "metadata": {},
      "source": [
        "```python\n",
        "[('find', 0.9996394515037537),\n",
        " ('capital,', 0.999639093875885),\n",
        " ('findings', 0.9996339082717896),\n",
        " ('seekers.', 0.9996323585510254),\n",
        " ('field', 0.9996322393417358),\n",
        " ('finding', 0.9996311664581299),\n",
        " ('had', 0.9996305704116821),\n",
        " ('abuse', 0.9996281862258911),\n",
        " ('storm', 0.9996268153190613),\n",
        " ('heading', 0.9996247291564941)]\n",
        "```"
      ]
    },
    {
      "cell_type": "code",
      "execution_count": null,
      "metadata": {
        "collapsed": false
      },
      "outputs": [],
      "source": [
        "print(wv.evaluate_word_analogies(datapath('questions-words.txt')))\n",
        "# 用于评估你的 Word2Vec 模型在给定的类比任务上的性能"
      ]
    },
    {
      "cell_type": "markdown",
      "metadata": {},
      "source": [
        "# 说明\n",
        "- 实际输出很长，这儿展现一下输出的格式说明\n",
        "```python\n",
        "[\n",
        "    {\n",
        "        # 模型成功解决的类比任务对\n",
        "        'correct': [('boy', 'girl', 'brother', 'sister'), ('king', 'queen', 'man', 'woman')],\n",
        "        # 模型未正确解决的类比任务对\n",
        "        'incorrect': [('france', 'paris', 'germany', 'berlin'), ('man', 'doctor', 'woman', 'nurse')],\n",
        "        # 类比问题所属的类别\n",
        "        'section': 'capital-common-countries'\n",
        "    }\n",
        "    ...\n",
        "]\n",
        "```"
      ]
    },
    {
      "cell_type": "markdown",
      "metadata": {},
      "source": [
        "### Word Movers distance\n",
        "\n",
        "- 需要可选的 POT 库\n"
      ]
    },
    {
      "cell_type": "code",
      "execution_count": null,
      "metadata": {},
      "outputs": [],
      "source": [
        "!pip install POT"
      ]
    },
    {
      "cell_type": "code",
      "execution_count": null,
      "metadata": {
        "collapsed": false
      },
      "outputs": [],
      "source": [
        "sentence_obama = 'Obama speaks to the media in Illinois'.lower().split()\n",
        "sentence_president = 'The president greets the press in Chicago'.lower().split()"
      ]
    },
    {
      "cell_type": "code",
      "execution_count": null,
      "metadata": {
        "collapsed": false
      },
      "outputs": [],
      "source": [
        "#  删除他们的停用词\n",
        "from gensim.parsing.preprocessing import STOPWORDS\n",
        "sentence_obama = [w for w in sentence_obama if w not in STOPWORDS]\n",
        "sentence_president = [w for w in sentence_president if w not in STOPWORDS]"
      ]
    },
    {
      "cell_type": "code",
      "execution_count": null,
      "metadata": {
        "collapsed": false
      },
      "outputs": [],
      "source": [
        "# 计算两个句子之间的词移动距离\n",
        "distance = wv.wmdistance(sentence_obama, sentence_president)\n",
        "print(f\"Word Movers Distance is {distance} (lower means closer)\")"
      ]
    }
  ],
  "metadata": {
    "kernelspec": {
      "display_name": "Python 3",
      "language": "python",
      "name": "python3"
    },
    "language_info": {
      "codemirror_mode": {
        "name": "ipython",
        "version": 3
      },
      "file_extension": ".py",
      "mimetype": "text/x-python",
      "name": "python",
      "nbconvert_exporter": "python",
      "pygments_lexer": "ipython3",
      "version": "3.10.11"
    }
  },
  "nbformat": 4,
  "nbformat_minor": 0
}
