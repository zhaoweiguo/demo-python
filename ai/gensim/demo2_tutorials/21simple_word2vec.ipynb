{
 "cells": [
  {
   "cell_type": "code",
   "execution_count": 1,
   "metadata": {},
   "outputs": [
    {
     "name": "stderr",
     "output_type": "stream",
     "text": [
      "2024-01-04 08:57:15,813 : INFO : collecting all words and their counts\n",
      "2024-01-04 08:57:15,814 : INFO : PROGRESS: at sentence #0, processed 0 words, keeping 0 word types\n",
      "2024-01-04 08:57:15,814 : INFO : collected 3 word types from a corpus of 4 raw words and 2 sentences\n",
      "2024-01-04 08:57:15,815 : INFO : Creating a fresh vocabulary\n",
      "2024-01-04 08:57:15,816 : INFO : Word2Vec lifecycle event {'msg': 'effective_min_count=1 retains 3 unique words (100.00% of original 3, drops 0)', 'datetime': '2024-01-04T08:57:15.816347', 'gensim': '4.3.2', 'python': '3.10.11 | packaged by conda-forge | (main, May 10 2023, 19:07:22) [Clang 14.0.6 ]', 'platform': 'macOS-14.1.2-x86_64-i386-64bit', 'event': 'prepare_vocab'}\n",
      "2024-01-04 08:57:15,817 : INFO : Word2Vec lifecycle event {'msg': 'effective_min_count=1 leaves 4 word corpus (100.00% of original 4, drops 0)', 'datetime': '2024-01-04T08:57:15.817039', 'gensim': '4.3.2', 'python': '3.10.11 | packaged by conda-forge | (main, May 10 2023, 19:07:22) [Clang 14.0.6 ]', 'platform': 'macOS-14.1.2-x86_64-i386-64bit', 'event': 'prepare_vocab'}\n",
      "2024-01-04 08:57:15,818 : INFO : deleting the raw counts dictionary of 3 items\n",
      "2024-01-04 08:57:15,818 : INFO : sample=0.001 downsamples 3 most-common words\n",
      "2024-01-04 08:57:15,819 : INFO : Word2Vec lifecycle event {'msg': 'downsampling leaves estimated 0.2279338255067268 word corpus (5.7%% of prior 4)', 'datetime': '2024-01-04T08:57:15.819690', 'gensim': '4.3.2', 'python': '3.10.11 | packaged by conda-forge | (main, May 10 2023, 19:07:22) [Clang 14.0.6 ]', 'platform': 'macOS-14.1.2-x86_64-i386-64bit', 'event': 'prepare_vocab'}\n",
      "2024-01-04 08:57:15,821 : INFO : estimated required memory for 3 words and 100 dimensions: 3900 bytes\n",
      "2024-01-04 08:57:15,822 : INFO : resetting layer weights\n",
      "2024-01-04 08:57:15,824 : INFO : Word2Vec lifecycle event {'update': False, 'trim_rule': 'None', 'datetime': '2024-01-04T08:57:15.824213', 'gensim': '4.3.2', 'python': '3.10.11 | packaged by conda-forge | (main, May 10 2023, 19:07:22) [Clang 14.0.6 ]', 'platform': 'macOS-14.1.2-x86_64-i386-64bit', 'event': 'build_vocab'}\n",
      "2024-01-04 08:57:15,824 : INFO : Word2Vec lifecycle event {'msg': 'training model with 3 workers on 3 vocabulary and 100 features, using sg=0 hs=0 sample=0.001 negative=5 window=5 shrink_windows=True', 'datetime': '2024-01-04T08:57:15.824925', 'gensim': '4.3.2', 'python': '3.10.11 | packaged by conda-forge | (main, May 10 2023, 19:07:22) [Clang 14.0.6 ]', 'platform': 'macOS-14.1.2-x86_64-i386-64bit', 'event': 'train'}\n",
      "2024-01-04 08:57:15,830 : INFO : EPOCH 0: training on 4 raw words (0 effective words) took 0.0s, 0 effective words/s\n",
      "2024-01-04 08:57:15,833 : INFO : EPOCH 1: training on 4 raw words (0 effective words) took 0.0s, 0 effective words/s\n",
      "2024-01-04 08:57:15,837 : INFO : EPOCH 2: training on 4 raw words (1 effective words) took 0.0s, 1742 effective words/s\n",
      "2024-01-04 08:57:15,840 : INFO : EPOCH 3: training on 4 raw words (0 effective words) took 0.0s, 0 effective words/s\n",
      "2024-01-04 08:57:15,843 : INFO : EPOCH 4: training on 4 raw words (0 effective words) took 0.0s, 0 effective words/s\n",
      "2024-01-04 08:57:15,843 : INFO : Word2Vec lifecycle event {'msg': 'training on 20 raw words (1 effective words) took 0.0s, 54 effective words/s', 'datetime': '2024-01-04T08:57:15.843909', 'gensim': '4.3.2', 'python': '3.10.11 | packaged by conda-forge | (main, May 10 2023, 19:07:22) [Clang 14.0.6 ]', 'platform': 'macOS-14.1.2-x86_64-i386-64bit', 'event': 'train'}\n",
      "2024-01-04 08:57:15,844 : INFO : Word2Vec lifecycle event {'params': 'Word2Vec<vocab=3, vector_size=100, alpha=0.025>', 'datetime': '2024-01-04T08:57:15.844469', 'gensim': '4.3.2', 'python': '3.10.11 | packaged by conda-forge | (main, May 10 2023, 19:07:22) [Clang 14.0.6 ]', 'platform': 'macOS-14.1.2-x86_64-i386-64bit', 'event': 'created'}\n"
     ]
    }
   ],
   "source": [
    "# import modules & set up logging\n",
    "import gensim, logging\n",
    "logging.basicConfig(format='%(asctime)s : %(levelname)s : %(message)s', level=logging.INFO)\n",
    " \n",
    "sentences = [['first', 'sentence'], ['second', 'sentence']]\n",
    "# train word2vec on the two sentences\n",
    "model = gensim.models.Word2Vec(sentences, min_count=1)"
   ]
  },
  {
   "cell_type": "code",
   "execution_count": null,
   "metadata": {},
   "outputs": [],
   "source": [
    "model = gensim.models.Word2Vec(iter=1)  # an empty model, no training yet\n",
    "model.build_vocab(some_sentences)  # can be a non-repeatable, 1-pass generator\n",
    "model.train(other_sentences)  # can be a non-repeatable, 1-pass generator"
   ]
  },
  {
   "cell_type": "code",
   "execution_count": 8,
   "metadata": {},
   "outputs": [
    {
     "data": {
      "text/plain": [
       "('baby!', 'let!', 'me!', 'iterate!', 'ya!')"
      ]
     },
     "execution_count": 8,
     "metadata": {},
     "output_type": "execute_result"
    }
   ],
   "source": []
  },
  {
   "cell_type": "code",
   "execution_count": 9,
   "metadata": {},
   "outputs": [
    {
     "data": {
      "text/plain": [
       "['baby!', 'let!', 'me!', 'iterate!', 'ya!']"
      ]
     },
     "execution_count": 9,
     "metadata": {},
     "output_type": "execute_result"
    }
   ],
   "source": []
  }
 ],
 "metadata": {
  "kernelspec": {
   "display_name": "chatgpt",
   "language": "python",
   "name": "python3"
  },
  "language_info": {
   "codemirror_mode": {
    "name": "ipython",
    "version": 3
   },
   "file_extension": ".py",
   "mimetype": "text/x-python",
   "name": "python",
   "nbconvert_exporter": "python",
   "pygments_lexer": "ipython3",
   "version": "3.10.11"
  }
 },
 "nbformat": 4,
 "nbformat_minor": 2
}
