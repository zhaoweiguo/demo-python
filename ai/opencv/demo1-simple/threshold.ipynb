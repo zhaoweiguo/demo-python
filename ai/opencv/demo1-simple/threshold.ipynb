{
 "cells": [
  {
   "cell_type": "code",
   "execution_count": 1,
   "metadata": {},
   "outputs": [],
   "source": [
    "import cv2"
   ]
  },
  {
   "cell_type": "markdown",
   "metadata": {},
   "source": [
    "# 数据预处理"
   ]
  },
  {
   "cell_type": "code",
   "execution_count": 3,
   "metadata": {},
   "outputs": [
    {
     "data": {
      "text/plain": [
       "array([[255, 255, 255,  54],\n",
       "       [255, 255, 255,  54],\n",
       "       [255, 255, 255,  54],\n",
       "       [255, 255, 255,   0]], dtype=uint8)"
      ]
     },
     "execution_count": 3,
     "metadata": {},
     "output_type": "execute_result"
    }
   ],
   "source": [
    "# 读取图像\n",
    "image = cv2.imread('../data/4.png', cv2.IMREAD_GRAYSCALE)\n",
    "image"
   ]
  },
  {
   "cell_type": "code",
   "execution_count": null,
   "metadata": {},
   "outputs": [],
   "source": []
  },
  {
   "cell_type": "markdown",
   "metadata": {},
   "source": [
    "# 简介\n",
    "\n",
    "基本语法\n",
    "```\n",
    "retval, threshold = cv2.threshold(src, thresh, maxval, type[, dst])\n",
    "```\n",
    "\n",
    "参数\n",
    "```\n",
    "src: 输入图像，应为单通道灰度图像。\n",
    "thresh: 阈值，用于对图像进行分割。如果图像的灰度值大于阈值，像素值就被设为 maxval；否则，被设为 0。\n",
    "maxval: 分割后的最大值，通常是 255。\n",
    "type: 二值化类型，指定如何应用阈值。常见的有 cv2.THRESH_BINARY（大于阈值的像素值设为 maxval，小于等于阈值的设为 0）等。\n",
    "dst（可选）: 输出图像，用于保存结果。如果未提供，函数会直接修改原始图像。\n",
    "```\n",
    "\n",
    "输出\n",
    "```\n",
    "retval: 选定的阈值，具体取决于选择的二值化类型。\n",
    "threshold: 二值化后的图像。\n",
    "```"
   ]
  },
  {
   "cell_type": "code",
   "execution_count": null,
   "metadata": {},
   "outputs": [],
   "source": []
  },
  {
   "cell_type": "markdown",
   "metadata": {},
   "source": [
    "# 正式处理"
   ]
  },
  {
   "cell_type": "code",
   "execution_count": 4,
   "metadata": {},
   "outputs": [
    {
     "data": {
      "text/plain": [
       "array([[255, 255, 255,   0],\n",
       "       [255, 255, 255,   0],\n",
       "       [255, 255, 255,   0],\n",
       "       [255, 255, 255,   0]], dtype=uint8)"
      ]
     },
     "execution_count": 4,
     "metadata": {},
     "output_type": "execute_result"
    }
   ],
   "source": [
    "# 二值化处理\n",
    "_, binary_image = cv2.threshold(image, 128, 255, cv2.THRESH_BINARY)\n",
    "binary_image"
   ]
  },
  {
   "cell_type": "code",
   "execution_count": null,
   "metadata": {},
   "outputs": [],
   "source": []
  }
 ],
 "metadata": {
  "kernelspec": {
   "display_name": "chatgpt",
   "language": "python",
   "name": "python3"
  },
  "language_info": {
   "codemirror_mode": {
    "name": "ipython",
    "version": 3
   },
   "file_extension": ".py",
   "mimetype": "text/x-python",
   "name": "python",
   "nbconvert_exporter": "python",
   "pygments_lexer": "ipython3",
   "version": "3.10.11"
  }
 },
 "nbformat": 4,
 "nbformat_minor": 2
}
