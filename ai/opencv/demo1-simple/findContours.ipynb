{
 "cells": [
  {
   "cell_type": "code",
   "execution_count": 2,
   "metadata": {},
   "outputs": [],
   "source": [
    "import cv2"
   ]
  },
  {
   "cell_type": "markdown",
   "metadata": {},
   "source": [
    "# 数据预处理"
   ]
  },
  {
   "cell_type": "code",
   "execution_count": 10,
   "metadata": {},
   "outputs": [],
   "source": [
    "# 读取图像\n",
    "image = cv2.imread('../data/30.png', cv2.IMREAD_GRAYSCALE)"
   ]
  },
  {
   "cell_type": "code",
   "execution_count": 11,
   "metadata": {},
   "outputs": [],
   "source": [
    "# 二值化处理\n",
    "_, binary_image = cv2.threshold(image, 128, 255, cv2.THRESH_BINARY)"
   ]
  },
  {
   "cell_type": "markdown",
   "metadata": {},
   "source": [
    "# 简介\n",
    "\n",
    "基本语法\n",
    "```\n",
    "contours, hierarchy = cv2.findContours(image, mode, method[, contours[, hierarchy[, offset]]])\n",
    "```\n",
    "\n",
    "参数包括\n",
    "```\n",
    "image: 输入图像，应为二值化图像，即只包含两个像素值（通常为 0 和 255）的图像。\n",
    "mode: 轮廓检索模式，指定轮廓的输出方式。常见的有 \n",
    "    cv2.RETR_EXTERNAL（只检测最外层轮廓）\n",
    "    cv2.RETR_LIST（检测所有轮廓，不建立层次关系等）\n",
    "    cv2.RETR_CCOMP: 检索所有轮廓，并将其组织为两层的层次结构。\n",
    "    cv2.RETR_TREE: 检索所有轮廓，并将其组织为树状结构。\n",
    "\n",
    "method: 轮廓逼近方法，指定轮廓的表示方式。常见的有 \n",
    "    cv2.CHAIN_APPROX_NONE: 存储所有的轮廓点。\n",
    "    cv2.CHAIN_APPROX_SIMPLE: 压缩水平、垂直和对角方向，只保留起点和终点。\n",
    "```\n",
    "返回值\n",
    "```\n",
    "contours: 一个包含检测到的轮廓的列表，每个轮廓是一个点的集合。\n",
    "hierarchy: 轮廓的层次信息，用于表示轮廓之间的关系，例如父子关系等。\n",
    "```\n"
   ]
  },
  {
   "cell_type": "markdown",
   "metadata": {},
   "source": [
    "# 正式处理"
   ]
  },
  {
   "cell_type": "markdown",
   "metadata": {},
   "source": [
    "### method\n",
    "##### CHAIN_APPROX_SIMPLE"
   ]
  },
  {
   "cell_type": "code",
   "execution_count": 12,
   "metadata": {},
   "outputs": [],
   "source": [
    "# 查找轮廓\n",
    "contours, hierarchy = cv2.findContours(binary_image, cv2.RETR_EXTERNAL, cv2.CHAIN_APPROX_SIMPLE)"
   ]
  },
  {
   "cell_type": "code",
   "execution_count": 15,
   "metadata": {},
   "outputs": [
    {
     "data": {
      "text/plain": [
       "array([[[-1, -1, -1, -1]]], dtype=int32)"
      ]
     },
     "execution_count": 15,
     "metadata": {},
     "output_type": "execute_result"
    }
   ],
   "source": [
    "hierarchy"
   ]
  },
  {
   "cell_type": "markdown",
   "metadata": {},
   "source": [
    "##### CHAIN_APPROX_NONE"
   ]
  },
  {
   "cell_type": "code",
   "execution_count": 16,
   "metadata": {},
   "outputs": [
    {
     "data": {
      "text/plain": [
       "array([[[-1, -1, -1, -1]]], dtype=int32)"
      ]
     },
     "execution_count": 16,
     "metadata": {},
     "output_type": "execute_result"
    }
   ],
   "source": [
    "contours, hierarchy = cv2.findContours(binary_image, cv2.RETR_EXTERNAL, cv2.CHAIN_APPROX_NONE)\n",
    "hierarchy"
   ]
  }
 ],
 "metadata": {
  "kernelspec": {
   "display_name": "chatgpt",
   "language": "python",
   "name": "python3"
  },
  "language_info": {
   "codemirror_mode": {
    "name": "ipython",
    "version": 3
   },
   "file_extension": ".py",
   "mimetype": "text/x-python",
   "name": "python",
   "nbconvert_exporter": "python",
   "pygments_lexer": "ipython3",
   "version": "3.10.11"
  }
 },
 "nbformat": 4,
 "nbformat_minor": 2
}
