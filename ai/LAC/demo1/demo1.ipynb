{
 "cells": [
  {
   "cell_type": "code",
   "execution_count": 1,
   "metadata": {},
   "outputs": [],
   "source": [
    "from LAC import LAC"
   ]
  },
  {
   "cell_type": "code",
   "execution_count": 3,
   "metadata": {},
   "outputs": [
    {
     "name": "stdout",
     "output_type": "stream",
     "text": [
      "['LAC', '是', '个', '优秀', '的', '分词', '工具']\n",
      "[['LAC', '是', '个', '优秀', '的', '分词', '工具'], ['百度', '是', '一家', '高科技', '公司']]\n"
     ]
    }
   ],
   "source": [
    "\n",
    "# 分词的功能\n",
    "def fenci():\n",
    "    # 装载分词模型\n",
    "    lac = LAC(mode='seg')\n",
    "\n",
    "    # 单个样本输入，输入为Unicode编码的字符串\n",
    "    text = u\"LAC是个优秀的分词工具\"\n",
    "    seg_result = lac.run(text)\n",
    "    print(seg_result)\n",
    "\n",
    "    # 批量样本输入, 输入为多个句子组成的list，平均速率会更快\n",
    "    texts = [u\"LAC是个优秀的分词工具\", u\"百度是一家高科技公司\"]\n",
    "    seg_result = lac.run(texts)\n",
    "    print(seg_result)\n",
    "fenci()"
   ]
  },
  {
   "cell_type": "code",
   "execution_count": 4,
   "metadata": {},
   "outputs": [
    {
     "name": "stdout",
     "output_type": "stream",
     "text": [
      "[[['LAC', '是', '个', '优秀', '的', '分词', '工具'], ['nz', 'v', 'q', 'a', 'u', 'n', 'n']], [['百度', '是', '一家', '高科技', '公司'], ['ORG', 'v', 'm', 'n', 'n']]]\n"
     ]
    }
   ],
   "source": [
    "\n",
    "# 词性标注以及实体的识别\n",
    "def cixingbiaozhuheshitishibie():\n",
    "\n",
    "    # 装载LAC模型\n",
    "    lac = LAC(mode='lac')\n",
    "\n",
    "    # 单个样本输入，输入为Unicode编码的字符串\n",
    "    text = u\"LAC是个优秀的分词工具\"\n",
    "    lac_result = lac.run(text)\n",
    "\n",
    "    # 批量样本输入, 输入为多个句子组成的list，平均速率更快\n",
    "    texts = [u\"LAC是个优秀的分词工具\", u\"百度是一家高科技公司\"]\n",
    "    lac_result = lac.run(texts)\n",
    "    print(lac_result)\n",
    "    # 标签\t含义\t标签\t含义\t标签\t含义\t标签\t含义\n",
    "    # n\t普通名词\tf\t方位名词\ts\t处所名词\tnw\t作品名\n",
    "    # nz\t其他专名\tv\t普通动词\tvd\t动副词\tvn\t名动词\n",
    "    # a\t形容词\tad\t副形词\tan\t名形词\td\t副词\n",
    "    # m\t数量词\tq\t量词\tr\t代词\tp\t介词\n",
    "    # c\t连词\tu\t助词\txc\t其他虚词\tw\t标点符号\n",
    "    # PER\t人名\tLOC\t地名\tORG\t机构名\tTIME\t时间\n",
    "\n",
    "cixingbiaozhuheshitishibie()"
   ]
  },
  {
   "cell_type": "code",
   "execution_count": 2,
   "metadata": {},
   "outputs": [
    {
     "name": "stderr",
     "output_type": "stream",
     "text": [
      "W0126 19:37:15.710462 1448086336 analysis_predictor.cc:2664] Deprecated. Please use CreatePredictor instead.\n"
     ]
    },
    {
     "name": "stdout",
     "output_type": "stream",
     "text": [
      "[['LAC', '是', '个', '优秀', '的', '分词', '工具'], ['nz', 'v', 'q', 'a', 'u', 'n', 'n'], [3, 0, 0, 2, 0, 3, 1]]\n",
      "[[['LAC', '是', '个', '优秀', '的', '分词', '工具'], ['nz', 'v', 'q', 'a', 'u', 'n', 'n'], [3, 0, 0, 2, 0, 3, 1]], [['百度', '是', '一家', '高科技', '公司'], ['ORG', 'v', 'm', 'n', 'n'], [3, 0, 2, 3, 1]]]\n"
     ]
    }
   ],
   "source": [
    "\n",
    "# 表现词语重要性\n",
    "def ciyuzhongyaoxing():\n",
    "    # 装载词语重要性模型\n",
    "    lac = LAC(mode='rank')\n",
    "\n",
    "    # 单个样本输入，输入为Unicode编码的字符串\n",
    "    text = u\"LAC是个优秀的分词工具\"\n",
    "    rank_result = lac.run(text)\n",
    "    print(rank_result)\n",
    "\n",
    "    # 批量样本输入, 输入为多个句子组成的list，平均速率会更快\n",
    "    texts = [u\"LAC是个优秀的分词工具\", u\"百度是一家高科技公司\"]\n",
    "    rank_result = lac.run(texts)\n",
    "    print(rank_result)\n",
    "\n",
    "ciyuzhongyaoxing()"
   ]
  },
  {
   "cell_type": "code",
   "execution_count": null,
   "metadata": {},
   "outputs": [],
   "source": [
    "\n",
    "# 定制化功能\n",
    "def dingzhihua():\n",
    "    lac = LAC()\n",
    "\n",
    "    # 装载干预词典, sep参数表示词典文件采用的分隔符，为None时默认使用空格或制表符'\\t'\n",
    "    lac.load_customization('custom.txt', sep=None)\n",
    "\n",
    "    # 干预后结果\n",
    "    custom_result = lac.run(u\"春天的花开秋天的风以及冬天的落阳\")\n",
    "    print(custom_result)\n",
    "\n",
    "dingzhihua()"
   ]
  },
  {
   "cell_type": "code",
   "execution_count": null,
   "metadata": {},
   "outputs": [],
   "source": []
  }
 ],
 "metadata": {
  "kernelspec": {
   "display_name": "chatgpt",
   "language": "python",
   "name": "python3"
  },
  "language_info": {
   "codemirror_mode": {
    "name": "ipython",
    "version": 3
   },
   "file_extension": ".py",
   "mimetype": "text/x-python",
   "name": "python",
   "nbconvert_exporter": "python",
   "pygments_lexer": "ipython3",
   "version": "3.9.18"
  }
 },
 "nbformat": 4,
 "nbformat_minor": 2
}
