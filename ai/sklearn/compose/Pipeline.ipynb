{
 "cells": [
  {
   "cell_type": "markdown",
   "metadata": {},
   "source": [
    "# 简介\n",
    "\n",
    "scikit-learn 库中的一个实用工具，用于构建机器学习工作流。它可以将多个预处理步骤和机器学习模型串联起来，形成一个完整的数据处理和建模流程。\n",
    "\n",
    "```\n",
    "模块名称：Pipeline\n",
    "模块类型：实用工具\n",
    "功能：构建机器学习工作流\n",
    "主要参数：\n",
    "steps：指定工作流中的每个步骤，以元组列表的形式给出，每个元组包含步骤的名称和步骤对象。\n",
    "主要属性：\n",
    "named_steps：字典形式的属性，用于访问工作流中的每个步骤。\n",
    "使用场景：\n",
    "当需要对数据进行多个预处理步骤，然后应用机器学习模型时，可以使用 Pipeline 来组织和管理这些步骤。\n",
    "示例用法：\n",
    "在机器学习任务中使用 Pipeline 来构建数据预处理和建模流程。\n",
    "```"
   ]
  },
  {
   "cell_type": "code",
   "execution_count": 7,
   "metadata": {},
   "outputs": [
    {
     "name": "stdout",
     "output_type": "stream",
     "text": [
      "预测结果： [1 0 2 1 1 0 1 2 1 1 2 0 0 0 0 1 2 1 1 2 0 2 0 2 2 2 2 2 0 0]\n",
      "正常结果： [1 0 2 1 1 0 1 2 1 1 2 0 0 0 0 1 2 1 1 2 0 2 0 2 2 2 2 2 0 0]\n"
     ]
    }
   ],
   "source": [
    "from sklearn.datasets import load_iris\n",
    "from sklearn.model_selection import train_test_split\n",
    "from sklearn.pipeline import Pipeline\n",
    "from sklearn.impute import SimpleImputer\n",
    "from sklearn.preprocessing import StandardScaler\n",
    "from sklearn.linear_model import LogisticRegression\n",
    "\n",
    "# 加载示例数据集\n",
    "iris = load_iris()\n",
    "X, y = iris.data, iris.target\n",
    "\n",
    "# 将数据集划分为训练集和测试集\n",
    "X_train, X_test, y_train, y_test = train_test_split(X, y, test_size=0.2, random_state=42)\n",
    "\n",
    "# 创建一个简单的 Pipeline，包括缺失值填充、数据标准化和逻辑回归三个步骤\n",
    "# pipeline = Pipeline(steps=[  # 其中steps参数可以省略\n",
    "pipeline = Pipeline([\n",
    "    ('imputer', SimpleImputer(strategy='mean')),  # 缺失值填充\n",
    "    ('scaler', StandardScaler()),                 # 数据标准化\n",
    "    ('classifier', LogisticRegression())          # 逻辑回归模型\n",
    "])\n",
    "\n",
    "# 拟合数据并进行预测\n",
    "pipeline.fit(X_train, y_train)\n",
    "predictions = pipeline.predict(X_test)\n",
    "\n",
    "# 打印预测结果\n",
    "# print(\"原始值：\", X_test)\n",
    "print(\"预测结果：\", predictions)\n",
    "print(\"正常结果：\", y_test)\n",
    "\n"
   ]
  },
  {
   "cell_type": "code",
   "execution_count": null,
   "metadata": {},
   "outputs": [],
   "source": []
  }
 ],
 "metadata": {
  "kernelspec": {
   "display_name": "openCV",
   "language": "python",
   "name": "python3"
  },
  "language_info": {
   "codemirror_mode": {
    "name": "ipython",
    "version": 3
   },
   "file_extension": ".py",
   "mimetype": "text/x-python",
   "name": "python",
   "nbconvert_exporter": "python",
   "pygments_lexer": "ipython3",
   "version": "3.8.3"
  }
 },
 "nbformat": 4,
 "nbformat_minor": 2
}
