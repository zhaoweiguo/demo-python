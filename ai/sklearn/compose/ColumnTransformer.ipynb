{
 "cells": [
  {
   "cell_type": "markdown",
   "metadata": {},
   "source": [
    "# 简介\n",
    "\n",
    "scikit-learn 库中的一个预处理工具，用于对不同列应用不同的转换器。它允许你分别对不同的列应用特定的数据转换方法，然后将这些转换后的列合并成单个特征矩阵。\n",
    "```\n",
    "模块名称：ColumnTransformer\n",
    "模块类型：预处理工具\n",
    "功能：对不同的列应用不同的转换器\n",
    "主要参数：\n",
    "transformers：指定要应用的转换器和列的组合。\n",
    "remainder：指定如何处理未指定转换器的列，默认为 'drop'，表示删除这些列；也可以设置为 'passthrough'，表示保持未转换的列。\n",
    "主要属性：\n",
    "transformers_：训练数据中每个转换器及其应用的列。\n",
    "使用场景：\n",
    "当需要对不同类型的特征进行不同的预处理操作时，例如对数值型特征进行缩放，对分类特征进行独热编码等。\n",
    "示例用法：\n",
    "在数据预处理流水线中使用 ColumnTransformer 来处理具有不同特征类型的数据。\n",
    "```\n"
   ]
  },
  {
   "cell_type": "code",
   "execution_count": 2,
   "metadata": {},
   "outputs": [
    {
     "name": "stdout",
     "output_type": "stream",
     "text": [
      "转换后的数据：\n",
      "[[-1.22474487  1.          0.          0.          3.        ]\n",
      " [ 0.          0.          1.          0.          4.        ]\n",
      " [ 1.22474487  0.          0.          1.          3.5       ]]\n"
     ]
    }
   ],
   "source": [
    "from sklearn.preprocessing import StandardScaler, OneHotEncoder\n",
    "from sklearn.compose import ColumnTransformer\n",
    "from sklearn.pipeline import Pipeline\n",
    "from sklearn.impute import SimpleImputer\n",
    "import numpy as np\n",
    "\n",
    "# 创建一个示例数据集\n",
    "data = np.array([[1, 'a', 3], [2, 'b', 4], [3, 'c', np.nan]])\n",
    "\n",
    "# 创建 ColumnTransformer 对象，对不同列应用不同的转换器\n",
    "ct = ColumnTransformer(\n",
    "    transformers=[\n",
    "        ('num', StandardScaler(), [0]),   # 对第 0 列进行标准化\n",
    "        ('cat', OneHotEncoder(), [1]),    # 对第 1 列进行独热编码\n",
    "        ('imp', SimpleImputer(strategy='mean'), [2])  # 对第 2 列进行均值填充\n",
    "    ],\n",
    "    remainder='passthrough'  # 其余列保持不变\n",
    ")\n",
    "\n",
    "# 创建 Pipeline 对象，将 ColumnTransformer 与其他步骤组合起来\n",
    "pipeline = Pipeline(steps=[('preprocessor', ct)])\n",
    "\n",
    "# 拟合数据并进行转换\n",
    "X_transformed = pipeline.fit_transform(data)\n",
    "\n",
    "# 打印转换后的结果\n",
    "print(\"转换后的数据：\")\n",
    "print(X_transformed)\n"
   ]
  }
 ],
 "metadata": {
  "kernelspec": {
   "display_name": "openCV",
   "language": "python",
   "name": "python3"
  },
  "language_info": {
   "codemirror_mode": {
    "name": "ipython",
    "version": 3
   },
   "file_extension": ".py",
   "mimetype": "text/x-python",
   "name": "python",
   "nbconvert_exporter": "python",
   "pygments_lexer": "ipython3",
   "version": "3.8.3"
  }
 },
 "nbformat": 4,
 "nbformat_minor": 2
}
