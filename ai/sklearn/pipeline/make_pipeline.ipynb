{
 "cells": [
  {
   "cell_type": "markdown",
   "metadata": {},
   "source": [
    "# 简介\n",
    "\n",
    "创建一个管道，将多个转换器和一个最终的估算器连接起来，形成一个组合估算器。\n",
    "区别：\n",
    "    make_pipeline 是一个便捷函数，用于创建 Pipeline 对象。\n",
    "    Pipeline 是一个类，用于创建 Pipeline 对象。\n",
    "\n",
    "```\n",
    "参数：\n",
    "    *steps：可变数量的转换器和估算器对象，按顺序连接在一起，最后一个对象为估算器。\n",
    "\n",
    "返回值：\n",
    "    Pipeline 对象，表示创建的管道。\n",
    "\n",
    "```\n"
   ]
  },
  {
   "cell_type": "code",
   "execution_count": 1,
   "metadata": {},
   "outputs": [
    {
     "name": "stdout",
     "output_type": "stream",
     "text": [
      "[ 3.  7. 11.]\n"
     ]
    }
   ],
   "source": [
    "from sklearn.pipeline import make_pipeline\n",
    "from sklearn.preprocessing import StandardScaler\n",
    "from sklearn.linear_model import LinearRegression\n",
    "import numpy as np\n",
    "\n",
    "# 创建一个示例数据集\n",
    "X_train = np.array([[1, 2], [3, 4], [5, 6]])\n",
    "y_train = np.array([3, 7, 11])\n",
    "\n",
    "# 创建一个 Pipeline 对象\n",
    "pipeline = make_pipeline(\n",
    "    StandardScaler(),  # 第一个步骤是数据标准化\n",
    "    LinearRegression()  # 最后一个步骤是线性回归模型\n",
    ")\n",
    "\n",
    "# 使用管道进行数据拟合和预测\n",
    "pipeline.fit(X_train, y_train)\n",
    "predictions = pipeline.predict(X_train)\n",
    "print(predictions)\n"
   ]
  },
  {
   "cell_type": "code",
   "execution_count": 2,
   "metadata": {},
   "outputs": [
    {
     "name": "stdout",
     "output_type": "stream",
     "text": [
      "[1 0 2 1 1 0 1 2 1 1 2 0 0 0 0 1 2 1 1 2 0 2 0 2 2 2 2 2 0 0]\n"
     ]
    }
   ],
   "source": [
    "from sklearn.pipeline import make_pipeline\n",
    "from sklearn.preprocessing import StandardScaler\n",
    "from sklearn.linear_model import LogisticRegression\n",
    "from sklearn.datasets import load_iris\n",
    "from sklearn.model_selection import train_test_split\n",
    "\n",
    "# 加载示例数据集\n",
    "iris = load_iris()\n",
    "X = iris.data\n",
    "y = iris.target\n",
    "\n",
    "# 将数据集划分为训练集和测试集\n",
    "X_train, X_test, y_train, y_test = train_test_split(X, y, test_size=0.2, random_state=42)\n",
    "\n",
    "# 创建一个 Pipeline 对象\n",
    "pipeline = make_pipeline(\n",
    "    StandardScaler(),  # 第一个步骤是数据标准化\n",
    "    LogisticRegression()  # 最后一个步骤是逻辑回归模型\n",
    ")\n",
    "\n",
    "# 使用管道进行数据拟合和预测\n",
    "pipeline.fit(X_train, y_train)\n",
    "predictions = pipeline.predict(X_test)\n",
    "print(predictions)\n"
   ]
  }
 ],
 "metadata": {
  "kernelspec": {
   "display_name": "openCV",
   "language": "python",
   "name": "python3"
  },
  "language_info": {
   "codemirror_mode": {
    "name": "ipython",
    "version": 3
   },
   "file_extension": ".py",
   "mimetype": "text/x-python",
   "name": "python",
   "nbconvert_exporter": "python",
   "pygments_lexer": "ipython3",
   "version": "3.8.3"
  }
 },
 "nbformat": 4,
 "nbformat_minor": 2
}
