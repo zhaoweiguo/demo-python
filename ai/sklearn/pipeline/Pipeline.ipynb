{
 "cells": [
  {
   "cell_type": "markdown",
   "metadata": {},
   "source": [
    "# 简介\n",
    "\n",
    "Pipeline 是 Scikit-learn 库中的一个功能强大的工具，用于将多个数据处理步骤组合成一个整体的模型。它可以将数据预处理、特征工程、模型训练等步骤串联起来，形成一个完整的数据处理流程。\n",
    "\n",
    "```\n",
    "参数：\n",
    "\n",
    "steps：表示由元组组成的列表，每个元组包含一个字符串和一个转换器或评估器对象。字符串用于命名步骤，转换器或评估器对象用于实际转换数据或训练模型。\n",
    "属性：\n",
    "\n",
    "named_steps：字典，包含命名步骤的名称和对应的转换器或评估器对象。\n",
    "方法：\n",
    "\n",
    "fit：对 Pipeline 中的所有转换器依次调用 fit 方法，将数据传递给第一个转换器，然后将转换后的数据传递给下一个转换器，直到最后一个转换器为止。\n",
    "transform：对 Pipeline 中的所有转换器依次调用 transform 方法，对数据进行转换。\n",
    "fit_transform：对 Pipeline 中的所有转换器依次调用 fit_transform 方法，对数据进行拟合和转换，最后返回转换后的数据。\n",
    "predict：对 Pipeline 中的所有转换器依次调用 transform 方法，然后将转换后的数据传递给最后一个评估器对象，进行预测。\n",
    "set_params：设置 Pipeline 中的转换器或评估器对象的参数。\n",
    "get_params：获取 Pipeline 中的转换器或评估器对象的参数。\n",
    "```\n"
   ]
  },
  {
   "cell_type": "code",
   "execution_count": null,
   "metadata": {},
   "outputs": [],
   "source": [
    "from sklearn.pipeline import Pipeline\n",
    "from sklearn.preprocessing import StandardScaler\n",
    "from sklearn.decomposition import PCA\n",
    "from sklearn.svm import SVC\n",
    "\n",
    "# 定义数据处理流程\n",
    "pipeline = Pipeline([\n",
    "    ('scaler', StandardScaler()),  # 标准化数据\n",
    "    ('pca', PCA(n_components=2)),  # 主成分分析\n",
    "    ('classifier', SVC())  # 支持向量机分类器\n",
    "])\n",
    "\n",
    "# 使用 Pipeline 对象进行训练和预测\n",
    "pipeline.fit(X_train, y_train)\n",
    "y_pred = pipeline.predict(X_test)\n"
   ]
  }
 ],
 "metadata": {
  "language_info": {
   "name": "python"
  }
 },
 "nbformat": 4,
 "nbformat_minor": 2
}
