{
 "cells": [
  {
   "cell_type": "markdown",
   "metadata": {},
   "source": [
    "# 简介\n",
    "\n",
    "scikit-learn 库中的一个预处理工具，用于对数据进行标准化处理。标准化是一种常见的数据预处理技术，可以使数据的均值为 0，标准差为 1，从而使数据符合标准正态分布。\n",
    "```\n",
    "模块名称：StandardScaler\n",
    "模块类型：预处理工具\n",
    "功能：对数据进行标准化处理\n",
    "主要参数：\n",
    "    with_mean：指定是否在标准化过程中移除均值，默认为 True。\n",
    "    with_std：指定是否在标准化过程中除以标准差，默认为 True。\n",
    "主要属性：\n",
    "    mean_：训练数据中每个特征的均值。\n",
    "    scale_：训练数据中每个特征的标准差。\n",
    "方法：\n",
    "    fit：计算数据集的均值和标准差。\n",
    "    transform：使用已计算的均值和标准差来标准化数据。\n",
    "    fit_transform：结合 fit 和 transform 两步操作。\n",
    "\n",
    "\n",
    "\n",
    "说明：\n",
    "公式 => 数值减去均值，然后除以标准差\n",
    "```"
   ]
  },
  {
   "cell_type": "code",
   "execution_count": 1,
   "metadata": {},
   "outputs": [
    {
     "name": "stdout",
     "output_type": "stream",
     "text": [
      "标准化后的数据：\n",
      "[[-1.22474487 -1.22474487]\n",
      " [ 0.          0.        ]\n",
      " [ 1.22474487  1.22474487]]\n"
     ]
    }
   ],
   "source": [
    "import numpy as np\n",
    "from sklearn.preprocessing import StandardScaler\n",
    "\n",
    "# 创建一个示例数据集\n",
    "data = np.array([[1, 2],\n",
    "                 [3, 4],\n",
    "                 [5, 6]])\n",
    "\n",
    "# 创建 StandardScaler 对象\n",
    "scaler = StandardScaler()\n",
    "\n",
    "# 拟合数据并进行转换\n",
    "scaled_data = scaler.fit_transform(data)\n",
    "\n",
    "# 打印标准化后的结果\n",
    "print(\"标准化后的数据：\")\n",
    "print(scaled_data)"
   ]
  }
 ],
 "metadata": {
  "kernelspec": {
   "display_name": "openCV",
   "language": "python",
   "name": "python3"
  },
  "language_info": {
   "codemirror_mode": {
    "name": "ipython",
    "version": 3
   },
   "file_extension": ".py",
   "mimetype": "text/x-python",
   "name": "python",
   "nbconvert_exporter": "python",
   "pygments_lexer": "ipython3",
   "version": "3.8.3"
  }
 },
 "nbformat": 4,
 "nbformat_minor": 2
}
