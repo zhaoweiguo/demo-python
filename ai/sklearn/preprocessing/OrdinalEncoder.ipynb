{
 "cells": [
  {
   "cell_type": "code",
   "execution_count": null,
   "metadata": {},
   "outputs": [],
   "source": []
  },
  {
   "cell_type": "markdown",
   "metadata": {},
   "source": [
    "# 简介\n",
    "\n",
    "OrdinalEncoder 是 scikit-learn 库中的一个预处理工具，用于将分类特征转换为整数编码。它主要用于处理具有有序类别的特征，即特征的分类值具有一定的顺序关系。\n",
    "\n",
    "```\n",
    "模块名称：OrdinalEncoder\n",
    "模块类型：预处理工具\n",
    "功能：将分类特征转换为整数编码\n",
    "主要参数：\n",
    "categories：指定每个特征的类别，如果不指定，则自动从数据中推断类别。\n",
    "dtype：指定输出数组的数据类型，默认为 np.float64。\n",
    "主要属性：\n",
    "categories_：训练数据中每个特征的类别。\n",
    "使用场景：\n",
    "处理具有有序类别的特征，例如衣服尺寸（小、中、大）、教育程度（高中、本科、硕士、博士）等。\n",
    "示例用法：\n",
    "对分类特征进行预处理，使其适合用于机器学习模型训练。\n",
    "```"
   ]
  },
  {
   "cell_type": "code",
   "execution_count": 1,
   "metadata": {},
   "outputs": [
    {
     "name": "stdout",
     "output_type": "stream",
     "text": [
      "编码后的数据：\n",
      "[[2. 0.]\n",
      " [1. 1.]\n",
      " [0. 2.]]\n"
     ]
    }
   ],
   "source": [
    "import numpy as np\n",
    "from sklearn.preprocessing import OrdinalEncoder\n",
    "\n",
    "# 创建一个示例数据集\n",
    "data = [['small', 100], ['medium', 200], ['large', 300]]\n",
    "X = np.array(data)\n",
    "\n",
    "# 创建 OrdinalEncoder 对象，并拟合数据\n",
    "encoder = OrdinalEncoder()\n",
    "encoder.fit(X)\n",
    "encoded_X = encoder.transform(X)\n",
    "\n",
    "# 打印编码后的结果\n",
    "print(\"编码后的数据：\")\n",
    "print(encoded_X)\n"
   ]
  }
 ],
 "metadata": {
  "kernelspec": {
   "display_name": "openCV",
   "language": "python",
   "name": "python3"
  },
  "language_info": {
   "codemirror_mode": {
    "name": "ipython",
    "version": 3
   },
   "file_extension": ".py",
   "mimetype": "text/x-python",
   "name": "python",
   "nbconvert_exporter": "python",
   "pygments_lexer": "ipython3",
   "version": "3.8.3"
  }
 },
 "nbformat": 4,
 "nbformat_minor": 2
}
