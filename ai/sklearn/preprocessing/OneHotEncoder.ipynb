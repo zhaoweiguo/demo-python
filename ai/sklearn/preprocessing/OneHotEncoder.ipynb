{
 "cells": [
  {
   "cell_type": "code",
   "execution_count": null,
   "metadata": {},
   "outputs": [],
   "source": []
  },
  {
   "cell_type": "markdown",
   "metadata": {},
   "source": [
    "# 简介\n",
    "\n",
    "OneHotEncoder 是 scikit-learn 库中的一个预处理工具，用于将分类特征转换为独热编码（One-Hot Encoding）。它将每个分类特征的每个类别转换为一个新的特征，并使用 0 和 1 来表示是否存在该类别。\n",
    "\n",
    "```\n",
    "模块名称：OneHotEncoder\n",
    "模块类型：预处理工具\n",
    "功能：将分类特征转换为独热编码\n",
    "主要参数：\n",
    "categories：指定每个特征的类别，如果不指定，则自动从数据中推断类别。\n",
    "drop：指定是否删除第一个类别编码，默认为 None，表示保留所有类别编码。\n",
    "sparse：指定是否返回稀疏矩阵，默认为 True。\n",
    "dtype：指定输出数组的数据类型，默认为 np.float64。\n",
    "主要属性：\n",
    "categories_：训练数据中每个特征的类别。\n",
    "使用场景：\n",
    "处理具有无序类别的特征，例如颜色（红、绿、蓝）、性别（男、女）等。\n",
    "示例用法：\n",
    "对分类特征进行独热编码，使其适合用于机器学习模型训练。\n",
    "```\n"
   ]
  },
  {
   "cell_type": "markdown",
   "metadata": {},
   "source": [
    "Numpy格式数据集"
   ]
  },
  {
   "cell_type": "code",
   "execution_count": 2,
   "metadata": {},
   "outputs": [
    {
     "name": "stdout",
     "output_type": "stream",
     "text": [
      "编码后的数据：\n",
      "[[0. 0. 1. 1. 0. 0.]\n",
      " [0. 1. 0. 0. 1. 0.]\n",
      " [1. 0. 0. 0. 0. 1.]]\n"
     ]
    }
   ],
   "source": [
    "import numpy as np\n",
    "from sklearn.preprocessing import OneHotEncoder\n",
    "\n",
    "# 创建一个示例数据集\n",
    "data = [['red', 1], ['green', 2], ['blue', 3]]\n",
    "X = np.array(data)\n",
    "\n",
    "# 创建 OneHotEncoder 对象，并拟合数据\n",
    "encoder = OneHotEncoder()\n",
    "encoded_X = encoder.fit_transform(X)\n",
    "\n",
    "# 打印编码后的结果\n",
    "print(\"编码后的数据：\")\n",
    "print(encoded_X.toarray())\n"
   ]
  },
  {
   "cell_type": "markdown",
   "metadata": {},
   "source": [
    "上面的数据集把两个字段都进行了 OneHotEncoder，下面给一个只对颜色（红、绿、蓝）进行 OneHotEncoder 的示例"
   ]
  },
  {
   "cell_type": "code",
   "execution_count": 5,
   "metadata": {},
   "outputs": [
    {
     "name": "stdout",
     "output_type": "stream",
     "text": [
      "编码后的数据：\n",
      "[['0.0' '0.0' '1.0' '1']\n",
      " ['0.0' '1.0' '0.0' '2']\n",
      " ['1.0' '0.0' '0.0' '3']]\n"
     ]
    }
   ],
   "source": [
    "import numpy as np\n",
    "from sklearn.compose import ColumnTransformer\n",
    "from sklearn.preprocessing import OneHotEncoder\n",
    "\n",
    "# 创建一个示例数据集\n",
    "data = [['red', 1], ['green', 2], ['blue', 3]]\n",
    "X = np.array(data)\n",
    "\n",
    "# 创建 ColumnTransformer 对象，只对颜色字段进行独热编码\n",
    "ct = ColumnTransformer(\n",
    "    [('one_hot_encoder', OneHotEncoder(), [0])],  # 对第 0 列进行独热编码\n",
    "    remainder='passthrough'  # 其余列保持不变\n",
    ")\n",
    "\n",
    "# 拟合数据并进行转换\n",
    "X_encoded = ct.fit_transform(X)\n",
    "\n",
    "# 打印编码后的结果\n",
    "print(\"编码后的数据：\")\n",
    "print(X_encoded)\n"
   ]
  },
  {
   "cell_type": "markdown",
   "metadata": {},
   "source": [
    "Pandas格式数据集"
   ]
  },
  {
   "cell_type": "code",
   "execution_count": 4,
   "metadata": {},
   "outputs": [
    {
     "name": "stdout",
     "output_type": "stream",
     "text": [
      "编码后的数据集：\n",
      "   color_blue  color_green  color_red  size_large  size_medium  size_small  \\\n",
      "0         0.0          0.0        1.0         0.0          0.0         1.0   \n",
      "1         0.0          1.0        0.0         0.0          1.0         0.0   \n",
      "2         1.0          0.0        0.0         1.0          0.0         0.0   \n",
      "3         0.0          0.0        1.0         0.0          1.0         0.0   \n",
      "4         0.0          1.0        0.0         0.0          0.0         1.0   \n",
      "\n",
      "   weight  \n",
      "0      10  \n",
      "1      20  \n",
      "2      30  \n",
      "3      15  \n",
      "4      25  \n"
     ]
    }
   ],
   "source": [
    "import pandas as pd\n",
    "from sklearn.preprocessing import OneHotEncoder\n",
    "\n",
    "# 创建一个示例数据集（Pandas 格式）\n",
    "data = {\n",
    "    'color': ['red', 'green', 'blue', 'red', 'green'],\n",
    "    'size': ['small', 'medium', 'large', 'medium', 'small'],\n",
    "    'weight': [10, 20, 30, 15, 25]\n",
    "}\n",
    "df = pd.DataFrame(data)\n",
    "\n",
    "# 创建 OneHotEncoder 对象，并拟合数据\n",
    "encoder = OneHotEncoder()\n",
    "encoder.fit(df[['color', 'size']])  # 仅选择需要编码的分类特征\n",
    "\n",
    "# 进行独热编码转换\n",
    "encoded_features = encoder.transform(df[['color', 'size']])\n",
    "\n",
    "# 将独热编码结果转换为 DataFrame\n",
    "encoded_df = pd.DataFrame(encoded_features.toarray(), columns=encoder.get_feature_names_out(['color', 'size']))\n",
    "\n",
    "# 将编码后的 DataFrame 与原始数据集拼接\n",
    "encoded_df = pd.concat([encoded_df, df[['weight']].reset_index(drop=True)], axis=1)\n",
    "\n",
    "# 打印编码后的数据集\n",
    "print(\"编码后的数据集：\")\n",
    "print(encoded_df)\n"
   ]
  }
 ],
 "metadata": {
  "kernelspec": {
   "display_name": "openCV",
   "language": "python",
   "name": "python3"
  },
  "language_info": {
   "codemirror_mode": {
    "name": "ipython",
    "version": 3
   },
   "file_extension": ".py",
   "mimetype": "text/x-python",
   "name": "python",
   "nbconvert_exporter": "python",
   "pygments_lexer": "ipython3",
   "version": "3.8.3"
  }
 },
 "nbformat": 4,
 "nbformat_minor": 2
}
