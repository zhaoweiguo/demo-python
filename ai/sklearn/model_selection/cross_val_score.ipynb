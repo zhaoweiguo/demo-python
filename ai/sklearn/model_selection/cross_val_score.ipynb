{
 "cells": [
  {
   "cell_type": "markdown",
   "metadata": {},
   "source": [
    "# 简介\n",
    "\n",
    "scikit-learn 库中的一个函数，用于执行交叉验证并返回每次验证的评分。交叉验证是一种评估模型性能的方法，它将数据集分割成多个子集，在每个子集上轮流进行训练和测试，最终计算所有验证结果的平均值。\n",
    "\n",
    "```\n",
    "模块名称：cross_val_score\n",
    "模块类型：模型评估工具\n",
    "功能：执行交叉验证并返回每次验证的评分\n",
    "主要参数：\n",
    "estimator：要评估的模型对象。\n",
    "X：输入特征数据。\n",
    "y：目标标签数据。\n",
    "scoring：\n",
    "    评分方法，默认为 None，表示使用模型的默认评分方法。\n",
    "    可以是字符串（如 'accuracy'）或可调用对象（如 sklearn.metrics.accuracy_score）。\n",
    "    使用场景：\n",
    "        在分类问题中，常见的评分方法包括准确率（'accuracy'）、精确率（'precision'）、召回率（'recall'）、F1 分数（'f1'）等。\n",
    "        在回归问题中，常见的评分方法包括均方误差（'neg_mean_squared_error'）、R^2 分数（'r2'）等。\n",
    "cv：\n",
    "    交叉验证的折数，默认为 5 折。\n",
    "    可选值：\n",
    "        整数：表示将数据集分成 k 个子集，其中 k 为整数值。\n",
    "        可迭代对象：可以是交叉验证的迭代器或分割器对象，用于自定义交叉验证策略。\n",
    "    示例用法：\n",
    "        指定折数为整数值，如 cv=5。\n",
    "        指定自定义的交叉验证策略，如使用 sklearn.model_selection.KFold 或 sklearn.model_selection.StratifiedKFold。\n",
    "主要属性：无\n",
    "使用场景：\n",
    "在评估模型性能时，特别是在比较不同模型或调优超参数时，使用交叉验证可以更准确地估计模型的泛化性能。\n",
    "示例用法：\n",
    "使用 cross_val_score 对模型进行交叉验证并获取每次验证的评分。\n",
    "```"
   ]
  },
  {
   "cell_type": "code",
   "execution_count": 1,
   "metadata": {},
   "outputs": [
    {
     "name": "stdout",
     "output_type": "stream",
     "text": [
      "每次验证的评分： [0.96666667 0.96666667 0.9        1.         1.        ]\n"
     ]
    }
   ],
   "source": [
    "from sklearn.datasets import load_iris\n",
    "from sklearn.model_selection import cross_val_score\n",
    "from sklearn.tree import DecisionTreeClassifier\n",
    "\n",
    "# 加载示例数据集\n",
    "iris = load_iris()\n",
    "X, y = iris.data, iris.target\n",
    "\n",
    "# 创建一个分类器模型\n",
    "clf = DecisionTreeClassifier()\n",
    "\n",
    "# 使用 cross_val_score 进行交叉验证并获取评分\n",
    "scores = cross_val_score(clf, X, y, cv=5)\n",
    "\n",
    "# 打印每次验证的评分\n",
    "print(\"每次验证的评分：\", scores)\n"
   ]
  }
 ],
 "metadata": {
  "kernelspec": {
   "display_name": "openCV",
   "language": "python",
   "name": "python3"
  },
  "language_info": {
   "codemirror_mode": {
    "name": "ipython",
    "version": 3
   },
   "file_extension": ".py",
   "mimetype": "text/x-python",
   "name": "python",
   "nbconvert_exporter": "python",
   "pygments_lexer": "ipython3",
   "version": "3.8.3"
  }
 },
 "nbformat": 4,
 "nbformat_minor": 2
}
