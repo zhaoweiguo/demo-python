{
 "cells": [
  {
   "cell_type": "code",
   "execution_count": 2,
   "metadata": {},
   "outputs": [
    {
     "name": "stdout",
     "output_type": "stream",
     "text": [
      "均方误差（Mean Squared Error）: 2952.0105887640448\n"
     ]
    }
   ],
   "source": []
  },
  {
   "cell_type": "markdown",
   "metadata": {},
   "source": [
    "# 简介\n",
    "\n",
    "RandomForestRegressor 是 scikit-learn 库中的一个回归模型，基于随机森林算法实现。随机森林是一种集成学习方法，通过构建多个决策树并将它们集成在一起来进行预测。\n",
    "\n",
    "```\n",
    "模型名称：RandomForestRegressor\n",
    "模型类型：回归模型\n",
    "基本原理：\n",
    "随机森林是一种集成学习方法，通过构建多个决策树并将它们集成在一起来进行预测。\n",
    "每棵决策树的构建过程中会随机选择样本和特征，以增加模型的多样性。\n",
    "集成多棵决策树的预测结果，通常通过取平均值来获得最终的预测结果。\n",
    "主要参数：\n",
    "n_estimators：森林中树的数量。\n",
    "max_depth：决策树的最大深度。\n",
    "min_samples_split：拆分内部节点所需的最小样本数。\n",
    "min_samples_leaf：叶节点上所需的最小样本数。\n",
    "等等，还有其他一些参数用于控制模型的训练和预测过程。\n",
    "优点：\n",
    "随机森林具有很好的泛化能力，能够处理高维数据和大量特征。\n",
    "对异常值和噪声具有较好的鲁棒性。\n",
    "可以有效地处理缺失值和不平衡数据。\n",
    "缺点：\n",
    "对于具有大量类别的分类问题，随机森林可能不够高效。\n",
    "适用场景：\n",
    "回归问题中，特征之间的关系复杂、非线性、非单调，或者存在噪声和异常值的情况。\n",
    "数据集具有大量特征，可能存在特征之间的相关性或交互作用。\n",
    "示例用法：\n",
    "用于房价预测、销量预测、股票价格预测等连续型变量的预测问题。\n",
    "\n",
    "```"
   ]
  },
  {
   "cell_type": "code",
   "execution_count": null,
   "metadata": {},
   "outputs": [],
   "source": [
    "from sklearn.datasets import load_diabetes\n",
    "from sklearn.model_selection import train_test_split\n",
    "from sklearn.ensemble import RandomForestRegressor\n",
    "from sklearn.metrics import mean_squared_error\n",
    "\n",
    "# 加载糖尿病数据集\n",
    "diabetes = load_diabetes()\n",
    "X = diabetes.data\n",
    "y = diabetes.target\n",
    "\n",
    "# 将数据集分为训练集和测试集\n",
    "X_train, X_test, y_train, y_test = train_test_split(X, y, test_size=0.2, random_state=42)\n",
    "\n",
    "# 创建随机森林回归模型\n",
    "regressor = RandomForestRegressor(n_estimators=100, random_state=42)\n",
    "\n",
    "# 在训练集上拟合模型\n",
    "regressor.fit(X_train, y_train)\n",
    "\n",
    "# 在测试集上进行预测\n",
    "y_pred = regressor.predict(X_test)\n",
    "\n",
    "# 计算均方误差\n",
    "mse = mean_squared_error(y_test, y_pred)\n",
    "print(\"均方误差（Mean Squared Error）:\", mse)\n"
   ]
  }
 ],
 "metadata": {
  "kernelspec": {
   "display_name": "openCV",
   "language": "python",
   "name": "python3"
  },
  "language_info": {
   "codemirror_mode": {
    "name": "ipython",
    "version": 3
   },
   "file_extension": ".py",
   "mimetype": "text/x-python",
   "name": "python",
   "nbconvert_exporter": "python",
   "pygments_lexer": "ipython3",
   "version": "3.8.3"
  }
 },
 "nbformat": 4,
 "nbformat_minor": 2
}
