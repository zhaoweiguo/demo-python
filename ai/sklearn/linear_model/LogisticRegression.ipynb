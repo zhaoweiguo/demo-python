{
 "cells": [
  {
   "cell_type": "markdown",
   "metadata": {},
   "source": [
    "# 简介\n",
    "\n",
    "LogisticRegression 类是 scikit-learn 中用于执行逻辑回归的模型类。逻辑回归是一种用于解决二分类问题的线性模型，它基于输入特征的线性组合来进行分类预测。\n",
    "\n",
    "```\n",
    "参数：\n",
    "    penalty：正则化项的类型，默认为 'l2'，可选 'l1' 或 'l2'。\n",
    "    C：正则化强度的倒数，必须是正浮点数，默认为 1.0。较小的值表示更强的正则化。\n",
    "    solver：用于优化问题的算法，默认为 'lbfgs'。可选的算法包括 'newton-cg'、'sag'、'saga' 和 'liblinear'。\n",
    "    max_iter：最大迭代次数，默认为 100。\n",
    "    multi_class：多类别分类策略，默认为 'auto'。可选 'ovr' 或 'multinomial'。\n",
    "    random_state：随机种子，用于随机数生成。\n",
    "    class_weight：类别权重，用于处理不平衡数据集。\n",
    "\n",
    "属性：\n",
    "    coef_：拟合后的模型系数。\n",
    "    intercept_：拟合后的模型截距。\n",
    "\n",
    "方法：\n",
    "    fit：拟合模型。\n",
    "    predict：对新数据进行预测。\n",
    "    predict_proba：返回每个类别的概率估计。\n",
    "    score：返回模型在测试数据上的准确率。\n",
    "```"
   ]
  },
  {
   "cell_type": "code",
   "execution_count": null,
   "metadata": {},
   "outputs": [],
   "source": []
  }
 ],
 "metadata": {
  "language_info": {
   "name": "python"
  }
 },
 "nbformat": 4,
 "nbformat_minor": 2
}
