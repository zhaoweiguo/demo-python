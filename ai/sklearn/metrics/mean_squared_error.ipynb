{
 "cells": [
  {
   "cell_type": "markdown",
   "metadata": {},
   "source": [
    "# 简介\n",
    "\n",
    "mean_squared_error 是 Scikit-learn 库中的一个评估指标函数，用于计算预测值与真实值之间的均方误差（Mean Squared Error，MSE）。\n",
    "均方误差是回归问题中常用的评估指标之一，它衡量了模型预测值与实际值之间的平均偏差的平方。\n",
    "\n",
    "```\n",
    "函数名称：mean_squared_error\n",
    "功能：计算预测值与真实值之间的均方误差\n",
    "参数：\n",
    "    y_true：真实的目标值或标签。\n",
    "    y_pred：模型预测的目标值或标签。\n",
    "    sample_weight（可选）：样本权重，用于对不同样本赋予不同的重要性。\n",
    "    multioutput（可选）：指定如何处理多输出问题，可选值包括 'raw_values'、'uniform_average' 和 'variance_weighted'。\n",
    "返回值：\n",
    "    均方误差的值，如果 multioutput='raw_values'，则返回每个输出的均方误差；否则返回加权平均值。\n",
    "使用场景：\n",
    "    在回归问题中，用于评估模型预测的准确性。\n",
    "    与其他评估指标一起，用于比较不同模型的性能。\n",
    "示例用法：\n",
    "    计算模型预测结果的均方误差，如 mse = mean_squared_error(y_true, y_pred)。\n",
    "    使用加权样本进行计算，如 mse = mean_squared_error(y_true, y_pred, sample_weight=weights)。\n",
    "\n",
    "```\n"
   ]
  },
  {
   "cell_type": "code",
   "execution_count": 1,
   "metadata": {},
   "outputs": [
    {
     "name": "stdout",
     "output_type": "stream",
     "text": [
      "均方误差： 0.375\n"
     ]
    }
   ],
   "source": [
    "from sklearn.metrics import mean_squared_error\n",
    "\n",
    "# 真实值\n",
    "y_true = [3, -0.5, 2, 7]\n",
    "\n",
    "# 预测值\n",
    "y_pred = [2.5, 0.0, 2, 8]\n",
    "\n",
    "# 计算均方误差\n",
    "mse = mean_squared_error(y_true, y_pred)\n",
    "print(\"均方误差：\", mse)\n"
   ]
  }
 ],
 "metadata": {
  "kernelspec": {
   "display_name": "openCV",
   "language": "python",
   "name": "python3"
  },
  "language_info": {
   "codemirror_mode": {
    "name": "ipython",
    "version": 3
   },
   "file_extension": ".py",
   "mimetype": "text/x-python",
   "name": "python",
   "nbconvert_exporter": "python",
   "pygments_lexer": "ipython3",
   "version": "3.8.3"
  }
 },
 "nbformat": 4,
 "nbformat_minor": 2
}
