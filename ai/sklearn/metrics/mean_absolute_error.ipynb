{
 "cells": [
  {
   "cell_type": "markdown",
   "metadata": {},
   "source": [
    "# 简介\n",
    "\n",
    "mean_absolute_error 是 sklearn 库中用于计算平均绝对误差（Mean Absolute Error，MAE）的函数。\n",
    "平均绝对误差是回归模型常用的性能评价指标之一，用于衡量模型预测值与真实值之间的平均绝对偏差。\n",
    "```\n",
    "函数名称：mean_absolute_error\n",
    "函数功能：计算平均绝对误差（MAE）\n",
    "参数：\n",
    "    y_true：真实值，一维数组或列表，表示真实的目标变量值。\n",
    "    y_pred：预测值，一维数组或列表，表示模型预测的目标变量值。\n",
    "    sample_weight：样本权重，可选参数，用于给每个样本指定不同的权重。\n",
    "返回值：\n",
    "    平均绝对误差的数值，即模型预测值与真实值之间的平均绝对偏差。\n",
    "```\n"
   ]
  },
  {
   "cell_type": "code",
   "execution_count": 1,
   "metadata": {},
   "outputs": [
    {
     "name": "stdout",
     "output_type": "stream",
     "text": [
      "平均绝对误差（Mean Absolute Error）: 0.5\n"
     ]
    }
   ],
   "source": [
    "from sklearn.metrics import mean_absolute_error\n",
    "import numpy as np\n",
    "\n",
    "# 实际值\n",
    "y_true = np.array([3, -0.5, 2, 7])\n",
    "\n",
    "# 预测值\n",
    "y_pred = np.array([2.5, 0.0, 2, 8])\n",
    "\n",
    "# 计算平均绝对误差\n",
    "mae = mean_absolute_error(y_true, y_pred)\n",
    "\n",
    "print(\"平均绝对误差（Mean Absolute Error）:\", mae)\n"
   ]
  }
 ],
 "metadata": {
  "kernelspec": {
   "display_name": "openCV",
   "language": "python",
   "name": "python3"
  },
  "language_info": {
   "codemirror_mode": {
    "name": "ipython",
    "version": 3
   },
   "file_extension": ".py",
   "mimetype": "text/x-python",
   "name": "python",
   "nbconvert_exporter": "python",
   "pygments_lexer": "ipython3",
   "version": "3.8.3"
  }
 },
 "nbformat": 4,
 "nbformat_minor": 2
}
