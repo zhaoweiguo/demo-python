{
 "cells": [
  {
   "cell_type": "markdown",
   "metadata": {},
   "source": [
    "# 简介\n",
    "\n",
    "- scikit-learn 库中的一个预处理工具，用于处理数据中的缺失值。它可以将数据中的缺失值用指定的策略（如平均值、中位数、众数等）填充，以便数据可以用于机器学习模型的训练。\n",
    "\n",
    "```\n",
    "模块名称：SimpleImputer\n",
    "模块类型：预处理工具\n",
    "功能：处理数据中的缺失值\n",
    "主要参数：\n",
    "missing_values：指定缺失值的表示形式，默认为 np.nan。\n",
    "strategy：指定填充缺失值的策略，可以是 'mean'（均值填充）、'median'（中位数填充）、'most_frequent'（众数填充）或者一个常数值。\n",
    "fill_value：如果 strategy 参数设置为常数值填充，则指定要填充的常数值。\n",
    "主要属性：\n",
    "statistics_：训练数据中每个特征的统计值，例如均值、中位数、众数等。\n",
    "使用场景：\n",
    "当数据中存在缺失值时，需要对缺失值进行处理，以便进行后续的机器学习模型训练。\n",
    "示例用法：\n",
    "在数据预处理流水线中使用 SimpleImputer 来填充缺失值。\n",
    "```\n"
   ]
  },
  {
   "cell_type": "code",
   "execution_count": 1,
   "metadata": {},
   "outputs": [
    {
     "name": "stdout",
     "output_type": "stream",
     "text": [
      "原始 DataFrame：\n",
      "     A    B    C\n",
      "0  1.0  NaN  1.0\n",
      "1  2.0  2.0  2.0\n",
      "2  NaN  3.0  3.0\n",
      "3  4.0  NaN  4.0\n",
      "4  5.0  5.0  NaN\n",
      "\n",
      "填充后的 DataFrame：\n",
      "     A         B    C\n",
      "0  1.0  3.333333  1.0\n",
      "1  2.0  2.000000  2.0\n",
      "2  3.0  3.000000  3.0\n",
      "3  4.0  3.333333  4.0\n",
      "4  5.0  5.000000  2.5\n"
     ]
    }
   ],
   "source": [
    "import pandas as pd\n",
    "from sklearn.impute import SimpleImputer\n",
    "\n",
    "# 创建一个包含缺失值的 DataFrame\n",
    "data = {\n",
    "    'A': [1, 2, None, 4, 5],\n",
    "    'B': [None, 2, 3, None, 5],\n",
    "    'C': [1, 2, 3, 4, None]\n",
    "}\n",
    "df = pd.DataFrame(data)\n",
    "\n",
    "# 创建 SimpleImputer 实例，指定缺失值填充策略为均值\n",
    "imputer = SimpleImputer(strategy='mean')\n",
    "\n",
    "# 对 DataFrame 中的缺失值进行填充\n",
    "imputed_data = imputer.fit_transform(df)\n",
    "\n",
    "# 将填充后的数据转换为 DataFrame\n",
    "imputed_df = pd.DataFrame(imputed_data, columns=df.columns)\n",
    "\n",
    "print(\"原始 DataFrame：\")\n",
    "print(df)\n",
    "print(\"\\n填充后的 DataFrame：\")\n",
    "print(imputed_df)\n"
   ]
  },
  {
   "cell_type": "markdown",
   "metadata": {},
   "source": [
    "## imputer.fit_transform 与 imputer.transform\n",
    "imputer.fit_transform(df)：\n",
    "```\n",
    "这个方法首先对输入的数据 df 进行拟合（fit）操作，计算出缺失值填充的参数（例如均值、中位数等）。\n",
    "然后，将计算得到的参数应用于数据 df，并进行缺失值填充。\n",
    "最后，返回填充后的数据。\n",
    "```\n",
    "imputer.transform(df)：\n",
    "```\n",
    "这个方法仅仅是将之前拟合（fit）得到的填充参数应用于数据 df，并进行缺失值填充。\n",
    "它不执行任何拟合操作，直接使用之前拟合得到的参数。\n",
    "因此，如果在调用 imputer 实例的 fit_transform() 方法之后，再次调用 transform() 方法，将会直接应用之前拟合得到的填充参数，而无需重新计算。\n",
    "```\n",
    "fit_transform() 方法执行了拟合和填充两个步骤，而 transform() 方法仅执行填充操作，使用之前拟合得到的参数\n"
   ]
  },
  {
   "cell_type": "code",
   "execution_count": 2,
   "metadata": {},
   "outputs": [
    {
     "name": "stdout",
     "output_type": "stream",
     "text": [
      "原始 DataFrame：\n",
      "     A    B    C\n",
      "0  1.0  NaN  1.0\n",
      "1  2.0  2.0  2.0\n",
      "2  NaN  3.0  3.0\n",
      "3  4.0  NaN  4.0\n",
      "4  5.0  5.0  NaN\n",
      "\n",
      "填充后的 DataFrame：\n",
      "     A         B    C\n",
      "0  1.0  3.333333  1.0\n",
      "1  2.0  2.000000  2.0\n",
      "2  3.0  3.000000  3.0\n",
      "3  4.0  3.333333  4.0\n",
      "4  5.0  5.000000  2.5\n"
     ]
    }
   ],
   "source": [
    "import pandas as pd\n",
    "from sklearn.impute import SimpleImputer\n",
    "\n",
    "# 创建一个包含缺失值的 DataFrame\n",
    "data = {\n",
    "    'A': [1, 2, None, 4, 5],\n",
    "    'B': [None, 2, 3, None, 5],\n",
    "    'C': [1, 2, 3, 4, None]\n",
    "}\n",
    "df = pd.DataFrame(data)\n",
    "\n",
    "# 创建 SimpleImputer 实例，指定缺失值填充策略为均值\n",
    "imputer = SimpleImputer(strategy='mean')\n",
    "\n",
    "# 对 imputer 实例进行拟合，计算缺失值填充参数\n",
    "imputer.fit(df)\n",
    "\n",
    "# 使用拟合得到的参数，对 DataFrame 中的缺失值进行填充\n",
    "filled_data = imputer.transform(df)\n",
    "\n",
    "# 将填充后的数据转换为 DataFrame\n",
    "filled_df = pd.DataFrame(filled_data, columns=df.columns)\n",
    "\n",
    "print(\"原始 DataFrame：\")\n",
    "print(df)\n",
    "print(\"\\n填充后的 DataFrame：\")\n",
    "print(filled_df)\n"
   ]
  },
  {
   "cell_type": "markdown",
   "metadata": {},
   "source": [
    "- 说明：\n",
    "    - 没有加参数 columns=df.columns的Imputation 会导致列表丢失\n",
    "    - 可以使用 filled_df.columns = df.columns 更换列表"
   ]
  },
  {
   "cell_type": "code",
   "execution_count": 16,
   "metadata": {},
   "outputs": [
    {
     "name": "stdout",
     "output_type": "stream",
     "text": [
      "原始 DataFrame：\n",
      "     A    B    C\n",
      "0  1.0  NaN  1.0\n",
      "1  2.0  2.0  2.0\n",
      "2  NaN  3.0  3.0\n",
      "3  4.0  NaN  4.0\n",
      "4  5.0  5.0  NaN\n",
      "\n",
      "填充后的 DataFrame：\n",
      "     0         1    2\n",
      "0  1.0  3.333333  1.0\n",
      "1  2.0  2.000000  2.0\n",
      "2  3.0  3.000000  3.0\n",
      "3  4.0  3.333333  4.0\n",
      "4  5.0  5.000000  2.5\n",
      "\n",
      "重新补全后的 DataFrame：\n",
      "     A         B    C\n",
      "0  1.0  3.333333  1.0\n",
      "1  2.0  2.000000  2.0\n",
      "2  3.0  3.000000  3.0\n",
      "3  4.0  3.333333  4.0\n",
      "4  5.0  5.000000  2.5\n"
     ]
    }
   ],
   "source": [
    "import pandas as pd\n",
    "from sklearn.impute import SimpleImputer\n",
    "\n",
    "# 创建一个包含缺失值的 DataFrame\n",
    "data = {\n",
    "    'A': [1, 2, None, 4, 5],\n",
    "    'B': [None, 2, 3, None, 5],\n",
    "    'C': [1, 2, 3, 4, None]\n",
    "}\n",
    "df = pd.DataFrame(data)\n",
    "\n",
    "# 创建 SimpleImputer 实例，指定缺失值填充策略为均值\n",
    "imputer = SimpleImputer(strategy='mean')\n",
    "\n",
    "# 对 imputer 实例进行拟合，计算缺失值填充参数\n",
    "imputer.fit(df)\n",
    "\n",
    "# 使用拟合得到的参数，对 DataFrame 中的缺失值进行填充\n",
    "filled_data = imputer.transform(df)\n",
    "\n",
    "# 将填充后的数据转换为 DataFrame\n",
    "filled_df = pd.DataFrame(filled_data)\n",
    "\n",
    "print(\"原始 DataFrame：\")\n",
    "print(df)\n",
    "print(\"\\n填充后的 DataFrame：\")\n",
    "print(filled_df)\n",
    "\n",
    "# Imputation removed column names; put them back\n",
    "print(\"\\n重新补全后的 DataFrame：\")\n",
    "filled_df.columns = df.columns\n",
    "print(filled_df)\n"
   ]
  },
  {
   "cell_type": "markdown",
   "metadata": {},
   "source": [
    "# 填充策略（strategy）\n",
    "SimpleImputer 类有四种填充策略（strategy）可供选择。它们是：\n",
    "```\n",
    "mean：使用特征列的均值填充缺失值。\n",
    "median：使用特征列的中位数填充缺失值。\n",
    "most_frequent：使用特征列中出现最频繁的值填充缺失值。\n",
    "constant：使用用户指定的常数值填充缺失值。\n",
    "```\n"
   ]
  },
  {
   "cell_type": "code",
   "execution_count": 17,
   "metadata": {},
   "outputs": [
    {
     "name": "stdout",
     "output_type": "stream",
     "text": [
      "原始 DataFrame：\n",
      "     A    B    C\n",
      "0  1.0  NaN  1.0\n",
      "1  2.0  2.0  2.0\n",
      "2  NaN  3.0  3.0\n",
      "3  4.0  NaN  4.0\n",
      "4  5.0  5.0  NaN\n",
      "\n",
      "填充后的 DataFrame：\n",
      "     0    1    2\n",
      "0  1.0  3.0  1.0\n",
      "1  2.0  2.0  2.0\n",
      "2  3.0  3.0  3.0\n",
      "3  4.0  3.0  4.0\n",
      "4  5.0  5.0  2.5\n",
      "\n",
      "重新补全后的 DataFrame：\n",
      "     A    B    C\n",
      "0  1.0  3.0  1.0\n",
      "1  2.0  2.0  2.0\n",
      "2  3.0  3.0  3.0\n",
      "3  4.0  3.0  4.0\n",
      "4  5.0  5.0  2.5\n"
     ]
    }
   ],
   "source": [
    "import pandas as pd\n",
    "from sklearn.impute import SimpleImputer\n",
    "\n",
    "# 创建一个包含缺失值的 DataFrame\n",
    "data = {\n",
    "    'A': [1, 2, None, 4, 5],\n",
    "    'B': [None, 2, 3, None, 5],\n",
    "    'C': [1, 2, 3, 4, None]\n",
    "}\n",
    "df = pd.DataFrame(data)\n",
    "\n",
    "# 创建 SimpleImputer 实例，指定缺失值填充策略\n",
    "imputer = SimpleImputer(strategy='median')\n",
    "\n",
    "# 对 imputer 实例进行拟合，计算缺失值填充参数\n",
    "imputer.fit(df)\n",
    "\n",
    "# 使用拟合得到的参数，对 DataFrame 中的缺失值进行填充\n",
    "filled_data = imputer.transform(df)\n",
    "\n",
    "# 将填充后的数据转换为 DataFrame\n",
    "filled_df = pd.DataFrame(filled_data)\n",
    "\n",
    "print(\"原始 DataFrame：\")\n",
    "print(df)\n",
    "print(\"\\n填充后的 DataFrame：\")\n",
    "print(filled_df)\n",
    "\n",
    "# Imputation removed column names; put them back\n",
    "print(\"\\n重新补全后的 DataFrame：\")\n",
    "filled_df.columns = df.columns\n",
    "print(filled_df)\n"
   ]
  },
  {
   "cell_type": "markdown",
   "metadata": {},
   "source": [
    " - strategy='constant' 的示例\n",
    " - fill_value默认值为指定类似的默认值"
   ]
  },
  {
   "cell_type": "code",
   "execution_count": 6,
   "metadata": {},
   "outputs": [
    {
     "name": "stdout",
     "output_type": "stream",
     "text": [
      "填充后的数据：\n",
      "[[ 1.  2. 10.]\n",
      " [ 4. 10.  6.]\n",
      " [10.  8.  9.]]\n"
     ]
    }
   ],
   "source": [
    "import numpy as np\n",
    "from sklearn.impute import SimpleImputer\n",
    "\n",
    "# 创建一个示例数据集，包含缺失值\n",
    "data = np.array([[1, 2, np.nan],\n",
    "                 [4, np.nan, 6],\n",
    "                 [np.nan, 8, 9]])\n",
    "\n",
    "# 创建 SimpleImputer 对象，并指定填充策略为常数值填充\n",
    "imputer = SimpleImputer(strategy='constant', fill_value=10)\n",
    "\n",
    "# 拟合数据并进行转换\n",
    "imputed_data = imputer.fit_transform(data)\n",
    "\n",
    "# 打印填充后的结果\n",
    "print(\"填充后的数据：\")\n",
    "print(imputed_data)\n"
   ]
  },
  {
   "cell_type": "markdown",
   "metadata": {},
   "source": [
    "- strategy='most_frequent' 的示例"
   ]
  },
  {
   "cell_type": "code",
   "execution_count": 5,
   "metadata": {},
   "outputs": [
    {
     "name": "stdout",
     "output_type": "stream",
     "text": [
      "填充后的数据：\n",
      "[[3. 2. 6.]\n",
      " [4. 2. 6.]\n",
      " [3. 8. 9.]]\n"
     ]
    }
   ],
   "source": [
    "import numpy as np\n",
    "from sklearn.impute import SimpleImputer\n",
    "\n",
    "# 创建一个示例数据集，包含缺失值\n",
    "data = np.array([[3, 2, np.nan],\n",
    "                 [4, np.nan, 6],\n",
    "                 [np.nan, 8, 9]])\n",
    "\n",
    "# 创建 SimpleImputer 对象，并指定填充策略为最频繁值填充\n",
    "imputer = SimpleImputer(strategy='most_frequent')\n",
    "\n",
    "# 拟合数据并进行转换\n",
    "imputed_data = imputer.fit_transform(data)\n",
    "\n",
    "# 打印填充后的结果\n",
    "print(\"填充后的数据：\")\n",
    "print(imputed_data)\n"
   ]
  }
 ],
 "metadata": {
  "kernelspec": {
   "display_name": "openCV",
   "language": "python",
   "name": "python3"
  },
  "language_info": {
   "codemirror_mode": {
    "name": "ipython",
    "version": 3
   },
   "file_extension": ".py",
   "mimetype": "text/x-python",
   "name": "python",
   "nbconvert_exporter": "python",
   "pygments_lexer": "ipython3",
   "version": "3.8.3"
  }
 },
 "nbformat": 4,
 "nbformat_minor": 2
}
