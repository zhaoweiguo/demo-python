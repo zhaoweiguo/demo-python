{
 "cells": [
  {
   "cell_type": "code",
   "execution_count": 1,
   "metadata": {},
   "outputs": [
    {
     "name": "stdout",
     "output_type": "stream",
     "text": [
      "[('张先生', 'PERSON'), ('北京', 'LOCATION'), ('上海', 'LOCATION'), ('张先生在北京的公司', 'ORGANIZATION')]\n"
     ]
    }
   ],
   "source": [
    "import re\n",
    "\n",
    "def rule_based_ner(text):\n",
    "    entities = []\n",
    "\n",
    "    # 人名识别规则\n",
    "    person_pattern = re.compile(r\"([张李王赵陈刘]先生|[A-Za-z]+\\s[A-Za-z]+)\")\n",
    "    persons = re.findall(person_pattern, text)\n",
    "    entities.extend([(p, \"PERSON\") for p in persons])\n",
    "\n",
    "    # 地名识别规则\n",
    "    location_pattern = re.compile(r\"(北京|上海|广州|深圳|[\\u4e00-\\u9fa5]+[市省])\")\n",
    "    locations = re.findall(location_pattern, text)\n",
    "    entities.extend([(l, \"LOCATION\") for l in locations])\n",
    "\n",
    "    # 组织机构名识别规则\n",
    "    org_pattern = re.compile(r\"(公司|集团|[\\u4e00-\\u9fa5]+[公司])\")\n",
    "    orgs = re.findall(org_pattern, text)\n",
    "    entities.extend([(o, \"ORGANIZATION\") for o in orgs])\n",
    "\n",
    "    return entities\n",
    "\n",
    "text = \"张先生在北京的公司工作，与李女士一起参加了上海的会议。\"\n",
    "entities = rule_based_ner(text)\n",
    "print(entities)\n"
   ]
  }
 ],
 "metadata": {
  "kernelspec": {
   "display_name": "chatgpt",
   "language": "python",
   "name": "python3"
  },
  "language_info": {
   "codemirror_mode": {
    "name": "ipython",
    "version": 3
   },
   "file_extension": ".py",
   "mimetype": "text/x-python",
   "name": "python",
   "nbconvert_exporter": "python",
   "pygments_lexer": "ipython3",
   "version": "3.10.11"
  }
 },
 "nbformat": 4,
 "nbformat_minor": 2
}
