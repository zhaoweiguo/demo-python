{
 "cells": [
  {
   "cell_type": "code",
   "execution_count": 5,
   "metadata": {},
   "outputs": [
    {
     "name": "stdout",
     "output_type": "stream",
     "text": [
      "['张', '先生', '在', '北京', '的', '公司', '工作', '，', '与', '李女士', '一起', '参加', '了', '上海', '的', '会议', '；', '王先生', '在', '上海', '的', '公司', '上班', '，', '与', '张女士', '一起', '参加', '了', '北京', '的', '会议', '。']\n",
      "Counter({'的': 4, '在': 2, '北京': 2, '公司': 2, '，': 2, '与': 2, '一起': 2, '参加': 2, '了': 2, '上海': 2, '会议': 2, '张': 1, '先生': 1, '工作': 1, '李女士': 1, '；': 1, '王先生': 1, '上班': 1, '张女士': 1, '。': 1})\n",
      "[('北京', 'LOCATION'), ('公司', 'ORGANIZATION'), ('上海', 'LOCATION')]\n"
     ]
    }
   ],
   "source": [
    "import jieba\n",
    "from collections import Counter\n",
    "\n",
    "def statistics_based_ner(text):\n",
    "    entities = []\n",
    "\n",
    "    # 使用 jieba 进行中文分词\n",
    "    words = list(jieba.cut(text))\n",
    "    print(words)\n",
    "\n",
    "    # 词频统计\n",
    "    word_counts = Counter(words)\n",
    "    print(word_counts)\n",
    "\n",
    "    # 通过词频判断实体类别\n",
    "    for word, count in word_counts.items():\n",
    "        if count >= 2 and len(word) >= 2:\n",
    "            if word.endswith(\"先生\") or word.endswith(\"女士\"):\n",
    "                entities.append((word, \"PERSON\"))\n",
    "            elif word in [\"北京\", \"上海\", \"广州\", \"深圳\"]:\n",
    "                entities.append((word, \"LOCATION\"))\n",
    "            elif word.endswith(\"公司\") or word.endswith(\"集团\"):\n",
    "                entities.append((word, \"ORGANIZATION\"))\n",
    "\n",
    "    return entities\n",
    "\n",
    "text = \"张先生在北京的公司工作，与李女士一起参加了上海的会议；王先生在上海的公司上班，与张女士一起参加了北京的会议。\"\n",
    "entities = statistics_based_ner(text)\n",
    "print(entities)\n"
   ]
  }
 ],
 "metadata": {
  "kernelspec": {
   "display_name": "chatgpt",
   "language": "python",
   "name": "python3"
  },
  "language_info": {
   "codemirror_mode": {
    "name": "ipython",
    "version": 3
   },
   "file_extension": ".py",
   "mimetype": "text/x-python",
   "name": "python",
   "nbconvert_exporter": "python",
   "pygments_lexer": "ipython3",
   "version": "3.10.11"
  }
 },
 "nbformat": 4,
 "nbformat_minor": 2
}
