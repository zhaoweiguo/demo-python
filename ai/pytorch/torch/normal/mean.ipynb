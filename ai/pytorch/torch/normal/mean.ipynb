{
 "cells": [
  {
   "cell_type": "code",
   "execution_count": 7,
   "metadata": {},
   "outputs": [
    {
     "name": "stdout",
     "output_type": "stream",
     "text": [
      "torch.Size([2, 3])\n",
      "张量的平均值： tensor(3.) torch.Size([])\n",
      "张量的平均值： tensor([2., 3., 4.]) torch.Size([3])\n",
      "张量的平均值： tensor([2., 4.]) torch.Size([2])\n"
     ]
    }
   ],
   "source": [
    "import torch\n",
    "\n",
    "# 创建一个张量\n",
    "tensor = torch.tensor([[1.0, 2.0, 3.0], [3.0, 4.0, 5.0]])\n",
    "print(tensor.shape)\n",
    "\n",
    "# 计算张量的平均值\n",
    "mean_value = torch.mean(tensor)\n",
    "\n",
    "# 打印结果\n",
    "print(\"张量的平均值：\", torch.mean(tensor))\n",
    "print(\"张量的平均值：\", torch.mean(tensor, dim=0))\n",
    "print(\"张量的平均值：\", torch.mean(tensor, dim=1))"
   ]
  }
 ],
 "metadata": {
  "kernelspec": {
   "display_name": "openCV",
   "language": "python",
   "name": "python3"
  },
  "language_info": {
   "codemirror_mode": {
    "name": "ipython",
    "version": 3
   },
   "file_extension": ".py",
   "mimetype": "text/x-python",
   "name": "python",
   "nbconvert_exporter": "python",
   "pygments_lexer": "ipython3",
   "version": "3.8.3"
  }
 },
 "nbformat": 4,
 "nbformat_minor": 2
}
