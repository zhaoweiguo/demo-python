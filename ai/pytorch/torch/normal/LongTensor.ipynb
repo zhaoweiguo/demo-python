{
 "cells": [
  {
   "cell_type": "code",
   "execution_count": null,
   "metadata": {},
   "outputs": [],
   "source": []
  },
  {
   "cell_type": "code",
   "execution_count": 1,
   "metadata": {},
   "outputs": [
    {
     "name": "stdout",
     "output_type": "stream",
     "text": [
      "长整型张量： tensor([[1, 2, 3],\n",
      "        [4, 5, 6]])\n",
      "数据类型： torch.int64\n"
     ]
    }
   ],
   "source": [
    "import torch\n",
    "\n",
    "# 创建一个长整型张量\n",
    "tensor = torch.LongTensor([[1, 2, 3], [4, 5, 6]])\n",
    "\n",
    "# 打印张量及其数据类型\n",
    "print(\"长整型张量：\", tensor)\n",
    "print(\"数据类型：\", tensor.dtype)\n"
   ]
  },
  {
   "cell_type": "code",
   "execution_count": null,
   "metadata": {},
   "outputs": [],
   "source": []
  },
  {
   "cell_type": "code",
   "execution_count": null,
   "metadata": {},
   "outputs": [],
   "source": []
  },
  {
   "cell_type": "code",
   "execution_count": null,
   "metadata": {},
   "outputs": [],
   "source": []
  }
 ],
 "metadata": {
  "kernelspec": {
   "display_name": "openCV",
   "language": "python",
   "name": "python3"
  },
  "language_info": {
   "codemirror_mode": {
    "name": "ipython",
    "version": 3
   },
   "file_extension": ".py",
   "mimetype": "text/x-python",
   "name": "python",
   "nbconvert_exporter": "python",
   "pygments_lexer": "ipython3",
   "version": "3.8.3"
  }
 },
 "nbformat": 4,
 "nbformat_minor": 2
}
