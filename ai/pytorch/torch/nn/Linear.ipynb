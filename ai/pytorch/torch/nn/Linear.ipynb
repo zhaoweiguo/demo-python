{
 "cells": [
  {
   "cell_type": "code",
   "execution_count": 2,
   "metadata": {},
   "outputs": [
    {
     "name": "stdout",
     "output_type": "stream",
     "text": [
      "输入张量： tensor([[ 0.0166,  0.0697,  0.5035,  0.0329, -0.3884],\n",
      "        [-0.1005, -1.3282,  0.7372, -0.6277,  0.2031]])\n",
      "输出张量： tensor([[-0.0686,  0.5880, -0.0569],\n",
      "        [ 0.6866,  0.5165, -0.1663]], grad_fn=<AddmmBackward>)\n",
      "张量形状： torch.Size([2, 3])\n"
     ]
    }
   ],
   "source": [
    "import torch\n",
    "import torch.nn as nn\n",
    "\n",
    "# 定义一个线性层(指定输入特征维度为 5，输出特征维度为 3)\n",
    "linear_layer = nn.Linear(in_features=5, out_features=3)\n",
    "\n",
    "# 创建一个输入张量\n",
    "input_tensor = torch.randn(2, 5)  # 2个样本，每个样本有5个特征\n",
    "print(\"输入张量：\", input_tensor)\n",
    "\n",
    "# 将输入张量传递给线性层\n",
    "output = linear_layer(input_tensor)\n",
    "\n",
    "# 打印输出张量及其形状\n",
    "print(\"输出张量：\", output)\n",
    "print(\"张量形状：\", output.shape)\n"
   ]
  }
 ],
 "metadata": {
  "kernelspec": {
   "display_name": "openCV",
   "language": "python",
   "name": "python3"
  },
  "language_info": {
   "codemirror_mode": {
    "name": "ipython",
    "version": 3
   },
   "file_extension": ".py",
   "mimetype": "text/x-python",
   "name": "python",
   "nbconvert_exporter": "python",
   "pygments_lexer": "ipython3",
   "version": "3.8.3"
  }
 },
 "nbformat": 4,
 "nbformat_minor": 2
}
