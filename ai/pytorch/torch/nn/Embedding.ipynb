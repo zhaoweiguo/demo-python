{
 "cells": [
  {
   "cell_type": "code",
   "execution_count": 1,
   "metadata": {},
   "outputs": [
    {
     "name": "stdout",
     "output_type": "stream",
     "text": [
      "输出张量： tensor([[[-0.4433,  0.3584, -0.8799],\n",
      "         [ 1.1916,  0.9349, -0.6371],\n",
      "         [ 0.0339,  1.3615, -0.5591]],\n",
      "\n",
      "        [[ 1.2531, -0.6023,  0.1073],\n",
      "         [-0.7586, -1.7428, -0.6382],\n",
      "         [ 0.3806,  0.8570,  0.0448]]], grad_fn=<EmbeddingBackward>)\n",
      "张量形状： torch.Size([2, 3, 3])\n"
     ]
    }
   ],
   "source": [
    "import torch\n",
    "import torch.nn as nn\n",
    "\n",
    "# 定义一个 Embedding 层(词汇表大小为 10，嵌入维度为 3)\n",
    "embedding_layer = nn.Embedding(num_embeddings=10, embedding_dim=3)\n",
    "\n",
    "# 创建一个输入张量\n",
    "# 这儿只是一个显示实例，实战中需要把自然语言通过词汇表转成张量\n",
    "input_tensor = torch.LongTensor([[1, 2, 3], [4, 5, 6]])\n",
    "\n",
    "# 将输入张量传递给 Embedding 层\n",
    "output = embedding_layer(input_tensor)\n",
    "\n",
    "# 打印输出张量及其形状\n",
    "print(\"输出张量：\", output)\n",
    "print(\"张量形状：\", output.shape)\n"
   ]
  }
 ],
 "metadata": {
  "kernelspec": {
   "display_name": "openCV",
   "language": "python",
   "name": "python3"
  },
  "language_info": {
   "codemirror_mode": {
    "name": "ipython",
    "version": 3
   },
   "file_extension": ".py",
   "mimetype": "text/x-python",
   "name": "python",
   "nbconvert_exporter": "python",
   "pygments_lexer": "ipython3",
   "version": "3.8.3"
  }
 },
 "nbformat": 4,
 "nbformat_minor": 2
}
