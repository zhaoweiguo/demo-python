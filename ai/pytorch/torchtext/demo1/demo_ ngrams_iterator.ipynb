{
 "cells": [
  {
   "cell_type": "code",
   "execution_count": 1,
   "metadata": {},
   "outputs": [
    {
     "name": "stdout",
     "output_type": "stream",
     "text": [
      "['这', '是', '一个', '示例', '句子', '这 是', '是 一个', '一个 示例', '示例 句子']\n",
      "这\n",
      "是\n",
      "一个\n",
      "示例\n",
      "句子\n",
      "这 是\n",
      "是 一个\n",
      "一个 示例\n",
      "示例 句子\n"
     ]
    }
   ],
   "source": [
    "from torchtext.data.utils import ngrams_iterator\n",
    "\n",
    "# 假设有一个句子\n",
    "sentence = [\"这\", \"是\", \"一个\", \"示例\", \"句子\"]\n",
    "\n",
    "# 使用 ngrams_iterator 生成 n-grams\n",
    "ngrams = ngrams_iterator(sentence, 2)\n",
    "\n",
    "# 将结果转换为列表并打印\n",
    "ngrams_list = list(ngrams)\n",
    "print(ngrams_list)  # ['这', '是', '一个', '示例', '句子', '这 是', '是 一个', '一个 示例', '示例 句子']\n",
    "\n",
    "# 或者逐个迭代并打印\n",
    "for gram in ngrams_list:\n",
    "    print(gram)\n"
   ]
  }
 ],
 "metadata": {
  "kernelspec": {
   "display_name": "openCV",
   "language": "python",
   "name": "python3"
  },
  "language_info": {
   "codemirror_mode": {
    "name": "ipython",
    "version": 3
   },
   "file_extension": ".py",
   "mimetype": "text/x-python",
   "name": "python",
   "nbconvert_exporter": "python",
   "pygments_lexer": "ipython3",
   "version": "3.8.3"
  }
 },
 "nbformat": 4,
 "nbformat_minor": 2
}
