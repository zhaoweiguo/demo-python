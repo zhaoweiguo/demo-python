{
 "cells": [
  {
   "cell_type": "markdown",
   "metadata": {},
   "source": [
    "# 生成器、迭代器、可迭代对象\n",
    "## 生成器"
   ]
  },
  {
   "cell_type": "code",
   "execution_count": null,
   "metadata": {},
   "outputs": [],
   "source": [
    "generator = (word + '!' for word in 'baby let me iterate ya'.split())\n",
    "# The generator object is now created, ready to be iterated over.\n",
    "# No exclamation marks added yet at this point.\n",
    " \n",
    "for val in generator: # real processing happens here, during iteration\n",
    "    print(val)\n",
    "# baby! let! me! iterate! ya!\n",
    "\n",
    "print(\"==========\")\n",
    "for val in generator:\n",
    "    print(val)\n",
    "# Nothing printed! No more data, generator stream already exhausted above."
   ]
  },
  {
   "cell_type": "markdown",
   "metadata": {},
   "source": [
    "- 注意：\n",
    "- 如果把小括号改成中括号，则生成的是list\n",
    "- 但上面生成的不是tuple，而是生成器\n",
    "- 如果想生成对应的tuple，则使用"
   ]
  },
  {
   "cell_type": "code",
   "execution_count": 1,
   "metadata": {},
   "outputs": [
    {
     "name": "stdout",
     "output_type": "stream",
     "text": [
      "('baby!', 'let!', 'me!', 'iterate!', 'ya!')\n",
      "['baby!', 'let!', 'me!', 'iterate!', 'ya!']\n"
     ]
    }
   ],
   "source": [
    "# 生成对应的tuple\n",
    "var_tuple = tuple(word + '!' for word in 'baby let me iterate ya'.split())\n",
    "# 生成对应的list\n",
    "var_list = [word + '!' for word in 'baby let me iterate ya'.split()]\n",
    "\n",
    "print(var_tuple)\n",
    "print(var_list)"
   ]
  },
  {
   "cell_type": "markdown",
   "metadata": {},
   "source": [
    "## 迭代器"
   ]
  },
  {
   "cell_type": "code",
   "execution_count": 2,
   "metadata": {},
   "outputs": [
    {
     "name": "stdout",
     "output_type": "stream",
     "text": [
      "baby!\n",
      "let!\n",
      "me!\n",
      "iterate!\n",
      "ya!\n",
      "==========\n",
      "baby!\n",
      "let!\n",
      "me!\n",
      "iterate!\n",
      "ya!\n"
     ]
    }
   ],
   "source": [
    "class BeyonceIterable(object):\n",
    "    def __iter__(self):\n",
    "        \"\"\"\n",
    "        The iterable interface: return an iterator from __iter__().\n",
    " \n",
    "        Every generator is an iterator implicitly (but not vice versa!),\n",
    "        so implementing `__iter__` as a generator is the easiest way\n",
    "        to create streamed iterables.\n",
    " \n",
    "        \"\"\"\n",
    "        for word in 'baby let me iterate ya'.split():\n",
    "            yield word + '!'  # uses yield => __iter__ is a generator\n",
    " \n",
    "iterable = BeyonceIterable()\n",
    " \n",
    "\n",
    "for val in iterable: # real processing happens here, during iteration\n",
    "    print(val)\n",
    "# baby! let! me! iterate! ya!\n",
    "\n",
    "print(\"==========\")\n",
    "for val in iterable:\n",
    "    print(val)"
   ]
  },
  {
   "cell_type": "markdown",
   "metadata": {},
   "source": [
    "- 迭代器和生成器之间的区别：\n",
    "- 迭代器可以多次使用，而生成器只能使用一次"
   ]
  },
  {
   "cell_type": "code",
   "execution_count": null,
   "metadata": {},
   "outputs": [],
   "source": []
  },
  {
   "cell_type": "code",
   "execution_count": null,
   "metadata": {},
   "outputs": [],
   "source": []
  },
  {
   "cell_type": "markdown",
   "metadata": {},
   "source": []
  },
  {
   "cell_type": "code",
   "execution_count": null,
   "metadata": {},
   "outputs": [],
   "source": []
  }
 ],
 "metadata": {
  "kernelspec": {
   "display_name": "chatgpt",
   "language": "python",
   "name": "python3"
  },
  "language_info": {
   "codemirror_mode": {
    "name": "ipython",
    "version": 3
   },
   "file_extension": ".py",
   "mimetype": "text/x-python",
   "name": "python",
   "nbconvert_exporter": "python",
   "pygments_lexer": "ipython3",
   "version": "3.10.11"
  }
 },
 "nbformat": 4,
 "nbformat_minor": 2
}
