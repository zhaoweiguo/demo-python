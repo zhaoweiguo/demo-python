{
 "cells": [
  {
   "cell_type": "markdown",
   "metadata": {},
   "source": []
  },
  {
   "cell_type": "code",
   "execution_count": 11,
   "metadata": {},
   "outputs": [
    {
     "name": "stdout",
     "output_type": "stream",
     "text": [
      "{0.05, 40, 19595.404965753423}\n",
      "{0.1, 40, 17699.247939854453}\n",
      "{0.15, 40, 17570.094980736303}\n",
      "{0.3, 40, 18013.725532427226}\n",
      "{0.15, 80, 17285.57288099315}\n",
      "{0.2, 17873.245545269692, 80}\n"
     ]
    }
   ],
   "source": [
    "data = [\n",
    "    {0.05, 40, 19595.404965753423},\n",
    "    {0.1, 40, 17699.247939854453},\n",
    "    {0.15, 40, 17570.094980736303},\n",
    "    {0.15, 80, 17285.57288099315},\n",
    "    {0.2, 80, 17873.245545269692},\n",
    "    {0.3, 40, 18013.725532427226}\n",
    "]\n",
    "\n",
    "sorted_data = sorted(data, key=lambda x: list(x)[1])\n",
    "for x in sorted_data:\n",
    "    print(x)\n"
   ]
  },
  {
   "cell_type": "code",
   "execution_count": 13,
   "metadata": {},
   "outputs": [
    {
     "name": "stdout",
     "output_type": "stream",
     "text": [
      "[0.15, 80, 17285.57288099315]\n",
      "[0.15, 40, 17570.094980736303]\n",
      "[0.1, 40, 17699.247939854453]\n",
      "[0.2, 80, 17873.245545269692]\n",
      "[0.3, 40, 18013.725532427226]\n",
      "[0.05, 40, 19595.404965753423]\n"
     ]
    }
   ],
   "source": [
    "data = [\n",
    "    [0.05, 40, 19595.404965753423],\n",
    "    [0.1, 40, 17699.247939854453],\n",
    "    [0.15, 40, 17570.094980736303],\n",
    "    [0.15, 80, 17285.57288099315],\n",
    "    [0.2, 80, 17873.245545269692],\n",
    "    [0.3, 40, 18013.725532427226]\n",
    "]\n",
    "\n",
    "\n",
    "sorted_data = sorted(data, key=lambda x: x[2])\n",
    "for x in sorted_data:\n",
    "    print(x)"
   ]
  }
 ],
 "metadata": {
  "kernelspec": {
   "display_name": "openCV",
   "language": "python",
   "name": "python3"
  },
  "language_info": {
   "codemirror_mode": {
    "name": "ipython",
    "version": 3
   },
   "file_extension": ".py",
   "mimetype": "text/x-python",
   "name": "python",
   "nbconvert_exporter": "python",
   "pygments_lexer": "ipython3",
   "version": "3.8.3"
  }
 },
 "nbformat": 4,
 "nbformat_minor": 2
}
