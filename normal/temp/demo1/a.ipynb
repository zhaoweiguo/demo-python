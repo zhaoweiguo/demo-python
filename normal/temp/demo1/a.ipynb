{
 "cells": [
  {
   "cell_type": "code",
   "execution_count": 3,
   "metadata": {},
   "outputs": [
    {
     "name": "stdout",
     "output_type": "stream",
     "text": [
      "对应的时间是： 1970-01-07 21:13:46.558878\n"
     ]
    }
   ],
   "source": [
    "import datetime\n",
    "\n",
    "# UNIX 时间戳\n",
    "timestamp = 594826.558878\n",
    "\n",
    "# 转换为 datetime 对象\n",
    "dt_object = datetime.datetime.utcfromtimestamp(timestamp)\n",
    "\n",
    "# 打印结果\n",
    "print(\"对应的时间是：\", dt_object)\n"
   ]
  }
 ],
 "metadata": {
  "kernelspec": {
   "display_name": "chatgpt",
   "language": "python",
   "name": "python3"
  },
  "language_info": {
   "codemirror_mode": {
    "name": "ipython",
    "version": 3
   },
   "file_extension": ".py",
   "mimetype": "text/x-python",
   "name": "python",
   "nbconvert_exporter": "python",
   "pygments_lexer": "ipython3",
   "version": "3.10.11"
  }
 },
 "nbformat": 4,
 "nbformat_minor": 2
}
