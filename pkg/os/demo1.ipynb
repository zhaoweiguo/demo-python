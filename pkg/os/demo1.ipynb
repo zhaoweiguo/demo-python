{
 "cells": [
  {
   "cell_type": "code",
   "execution_count": 2,
   "metadata": {},
   "outputs": [
    {
     "name": "stdout",
     "output_type": "stream",
     "text": [
      "当前目录: ..\n",
      "包含的子目录: ['os', 'threading', 'collections', 're']\n",
      "包含的文件: ['requirements.txt']\n",
      "\n",
      "当前目录: ../os\n",
      "包含的子目录: []\n",
      "包含的文件: ['demo1.ipynb']\n",
      "\n",
      "当前目录: ../threading\n",
      "包含的子目录: ['demo2_queue', 'demo1']\n",
      "包含的文件: []\n",
      "\n",
      "当前目录: ../threading/demo2_queue\n",
      "包含的子目录: []\n",
      "包含的文件: ['main.py']\n",
      "\n",
      "当前目录: ../threading/demo1\n",
      "包含的子目录: []\n",
      "包含的文件: ['main.py']\n",
      "\n",
      "当前目录: ../collections\n",
      "包含的子目录: []\n",
      "包含的文件: ['demo1_Counter.py', 'demo2.py']\n",
      "\n",
      "当前目录: ../re\n",
      "包含的子目录: []\n",
      "包含的文件: ['replice.ipynb', 'split.py']\n",
      "\n"
     ]
    }
   ],
   "source": [
    "import os\n",
    "\n",
    "# 遍历当前目录及其子目录下的所有文件和文件夹\n",
    "for root, dirs, files in os.walk('..'):\n",
    "    print(f'当前目录: {root}')\n",
    "    print(f'包含的子目录: {dirs}')\n",
    "    print(f'包含的文件: {files}')\n",
    "    print()\n",
    "\n",
    "\n"
   ]
  }
 ],
 "metadata": {
  "kernelspec": {
   "display_name": "openCV",
   "language": "python",
   "name": "python3"
  },
  "language_info": {
   "codemirror_mode": {
    "name": "ipython",
    "version": 3
   },
   "file_extension": ".py",
   "mimetype": "text/x-python",
   "name": "python",
   "nbconvert_exporter": "python",
   "pygments_lexer": "ipython3",
   "version": "3.8.3"
  }
 },
 "nbformat": 4,
 "nbformat_minor": 2
}
