{
 "cells": [
  {
   "cell_type": "markdown",
   "metadata": {},
   "source": [
    "# 简介\n",
    "pd.get_dummies 是 Pandas 库中的一个函数，用于将分类变量（categorical variable）转换为哑变量（dummy variables）。在机器学习中，特征通常包含多个类别，但大多数算法只能处理数值特征。因此，需要将分类特征转换为数值特征，而 pd.get_dummies 就是用来实现这一转换的工具。\n",
    "\n",
    "```\n",
    "函数名称：pd.get_dummies\n",
    "函数功能：\n",
    "    将分类变量转换为哑变量（one-hot 编码）\n",
    "    如果 data 字段是数据变量，则不变\n",
    "参数：\n",
    "    data：DataFrame 或 Series，表示待转换的数据。\n",
    "    columns：指定要转换的列名（可选），默认对所有分类变量进行转换。\n",
    "    prefix：指定生成的哑变量列的前缀（可选）。\n",
    "    prefix_sep：指定生成的哑变量列前缀与原始列名之间的分隔符（可选）。\n",
    "    dummy_na：指定是否为缺失值创建哑变量（可选）。\n",
    "返回值：\n",
    "    DataFrame，表示转换后的数据。\n",
    "```\n"
   ]
  },
  {
   "cell_type": "code",
   "execution_count": 1,
   "metadata": {},
   "outputs": [
    {
     "name": "stdout",
     "output_type": "stream",
     "text": [
      "  category\n",
      "0        A\n",
      "1        B\n",
      "2        A\n",
      "3        C\n",
      "4        B\n",
      "       A      B      C\n",
      "0   True  False  False\n",
      "1  False   True  False\n",
      "2   True  False  False\n",
      "3  False  False   True\n",
      "4  False   True  False\n"
     ]
    }
   ],
   "source": [
    "import pandas as pd\n",
    "\n",
    "# 创建一个包含分类变量的 DataFrame\n",
    "data = {'category': ['A', 'B', 'A', 'C', 'B']}\n",
    "df = pd.DataFrame(data)\n",
    "print(df)\n",
    "\n",
    "# 使用 get_dummies 函数进行独热编码\n",
    "one_hot_encoded = pd.get_dummies(df['category'])\n",
    "\n",
    "# 打印独热编码后的结果\n",
    "print(one_hot_encoded)\n"
   ]
  },
  {
   "cell_type": "code",
   "execution_count": 5,
   "metadata": {},
   "outputs": [
    {
     "name": "stdout",
     "output_type": "stream",
     "text": [
      "  category1  category2\n",
      "0         A          1\n",
      "1         B          2\n",
      "2         A          3\n",
      "3         C          4\n",
      "4         B          3\n",
      "   category1_A  category1_B  category1_C\n",
      "0         True        False        False\n",
      "1        False         True        False\n",
      "2         True        False        False\n",
      "3        False        False         True\n",
      "4        False         True        False\n",
      "   category2\n",
      "0          1\n",
      "1          2\n",
      "2          3\n",
      "3          4\n",
      "4          3\n",
      "   category2  category1_A  category1_B  category1_C\n",
      "0          1         True        False        False\n",
      "1          2        False         True        False\n",
      "2          3         True        False        False\n",
      "3          4        False        False         True\n",
      "4          3        False         True        False\n"
     ]
    }
   ],
   "source": [
    "import pandas as pd\n",
    "\n",
    "# 创建一个包含多个分类变量的 DataFrame\n",
    "data = {'category1': ['A', 'B', 'A', 'C', 'B'],\n",
    "        'category2': [1,2,3,4,3]}\n",
    "df = pd.DataFrame(data)\n",
    "print(df)\n",
    "\n",
    "# 使用 get_dummies 函数对多列进行独热编码\n",
    "one_hot_encoded = pd.get_dummies(df[['category1']])\n",
    "print(one_hot_encoded)\n",
    "\n",
    "one_hot_encoded = pd.get_dummies(df[['category2']])\n",
    "print(one_hot_encoded)\n",
    "\n",
    "one_hot_encoded = pd.get_dummies(df)\n",
    "print(one_hot_encoded)\n"
   ]
  }
 ],
 "metadata": {
  "kernelspec": {
   "display_name": "openCV",
   "language": "python",
   "name": "python3"
  },
  "language_info": {
   "codemirror_mode": {
    "name": "ipython",
    "version": 3
   },
   "file_extension": ".py",
   "mimetype": "text/x-python",
   "name": "python",
   "nbconvert_exporter": "python",
   "pygments_lexer": "ipython3",
   "version": "3.8.3"
  }
 },
 "nbformat": 4,
 "nbformat_minor": 2
}
