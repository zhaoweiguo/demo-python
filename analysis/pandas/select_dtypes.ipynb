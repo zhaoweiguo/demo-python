{
 "cells": [
  {
   "cell_type": "code",
   "execution_count": 1,
   "metadata": {},
   "outputs": [],
   "source": [
    "import pandas as pd"
   ]
  },
  {
   "cell_type": "markdown",
   "metadata": {},
   "source": [
    "- 根据数据类型选择 DataFrame 中的列。它允许用户根据指定的数据类型（如数字、字符串等）从 DataFrame 中选择列，并返回一个新的 DataFrame，其中包含符合条件的列。\n",
    "简介：\n",
    "```\n",
    "函数名称：select_dtypes(include=None, exclude=None)\n",
    "参数：\n",
    "include：指定要包含的数据类型的列表或字符串，如果指定了，只选择包含在其中的数据类型。\n",
    "exclude：指定要排除的数据类型的列表或字符串，如果指定了，排除在其中的数据类型。\n",
    "返回值：返回一个新的 DataFrame，其中包含符合条件的列。\n",
    "```"
   ]
  },
  {
   "cell_type": "code",
   "execution_count": 2,
   "metadata": {},
   "outputs": [
    {
     "name": "stdout",
     "output_type": "stream",
     "text": [
      "数值类型的列：\n",
      "   A    C\n",
      "0  1  4.5\n",
      "1  2  5.5\n",
      "2  3  6.5\n",
      "\n",
      "字符串类型的列：\n",
      "   B\n",
      "0  a\n",
      "1  b\n",
      "2  c\n",
      "\n",
      "除了字符串类型的列：\n",
      "   A    C\n",
      "0  1  4.5\n",
      "1  2  5.5\n",
      "2  3  6.5\n"
     ]
    }
   ],
   "source": [
    "# 创建一个 DataFrame\n",
    "data = {\n",
    "    'A': [1, 2, 3],\n",
    "    'B': ['a', 'b', 'c'],\n",
    "    'C': [4.5, 5.5, 6.5]\n",
    "}\n",
    "df = pd.DataFrame(data)\n",
    "\n",
    "# 选择数值类型的列\n",
    "numeric_cols = df.select_dtypes(include='number')\n",
    "print(\"数值类型的列：\")\n",
    "print(numeric_cols)\n",
    "\n",
    "# 选择字符串类型的列\n",
    "string_cols = df.select_dtypes(include='object')\n",
    "print(\"\\n字符串类型的列：\")\n",
    "print(string_cols)\n",
    "\n",
    "# 选择除了字符串类型的列\n",
    "non_string_cols = df.select_dtypes(exclude='object')\n",
    "print(\"\\n除了字符串类型的列：\")\n",
    "print(non_string_cols)\n"
   ]
  }
 ],
 "metadata": {
  "kernelspec": {
   "display_name": "openCV",
   "language": "python",
   "name": "python3"
  },
  "language_info": {
   "codemirror_mode": {
    "name": "ipython",
    "version": 3
   },
   "file_extension": ".py",
   "mimetype": "text/x-python",
   "name": "python",
   "nbconvert_exporter": "python",
   "pygments_lexer": "ipython3",
   "version": "3.8.3"
  }
 },
 "nbformat": 4,
 "nbformat_minor": 2
}
