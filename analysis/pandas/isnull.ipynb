{
 "cells": [
  {
   "cell_type": "code",
   "execution_count": null,
   "metadata": {},
   "outputs": [],
   "source": []
  },
  {
   "cell_type": "markdown",
   "metadata": {},
   "source": [
    "检查 DataFrame 中是否存在缺失值："
   ]
  },
  {
   "cell_type": "code",
   "execution_count": 5,
   "metadata": {},
   "outputs": [
    {
     "name": "stdout",
     "output_type": "stream",
     "text": [
      "DataFrame 中的缺失值情况：\n",
      "       A      B      C\n",
      "0  False  False  False\n",
      "1   True   True  False\n",
      "2  False  False  False\n"
     ]
    }
   ],
   "source": [
    "import pandas as pd\n",
    "\n",
    "# 创建一个 DataFrame\n",
    "data = {'A': [1, None, 3], 'B': [4, None, 6], 'C': [7, 8, 9]}\n",
    "X_train = pd.DataFrame(data)\n",
    "\n",
    "# 检查 DataFrame 中是否存在缺失值\n",
    "null_values = X_train.isnull()\n",
    "\n",
    "print(\"DataFrame 中的缺失值情况：\")\n",
    "print(null_values)\n"
   ]
  },
  {
   "cell_type": "markdown",
   "metadata": {},
   "source": [
    "检查某一列是否存在缺失值：\n"
   ]
  },
  {
   "cell_type": "code",
   "execution_count": 2,
   "metadata": {},
   "outputs": [
    {
     "name": "stdout",
     "output_type": "stream",
     "text": [
      "列 'B' 中的缺失值情况：\n",
      "0    False\n",
      "1     True\n",
      "2    False\n",
      "Name: B, dtype: bool\n"
     ]
    }
   ],
   "source": [
    "import pandas as pd\n",
    "\n",
    "# 创建一个 DataFrame\n",
    "data = {'A': [1, None, 3], 'B': [4, None, 6], 'C': [7, 8, 9]}\n",
    "X_train = pd.DataFrame(data)\n",
    "\n",
    "# 检查列 'B' 是否存在缺失值\n",
    "null_values_B = X_train['B'].isnull()\n",
    "\n",
    "print(\"列 'B' 中的缺失值情况：\")\n",
    "print(null_values_B)\n"
   ]
  },
  {
   "cell_type": "markdown",
   "metadata": {},
   "source": [
    "检查每一行是否存在缺失值：\n"
   ]
  },
  {
   "cell_type": "code",
   "execution_count": 3,
   "metadata": {},
   "outputs": [
    {
     "name": "stdout",
     "output_type": "stream",
     "text": [
      "每一行是否存在缺失值情况：\n",
      "0    False\n",
      "1     True\n",
      "2    False\n",
      "dtype: bool\n"
     ]
    }
   ],
   "source": [
    "import pandas as pd\n",
    "\n",
    "# 创建一个 DataFrame\n",
    "data = {'A': [1, None, 3], 'B': [4, None, 6], 'C': [7, 8, 9]}\n",
    "X_train = pd.DataFrame(data)\n",
    "\n",
    "# 检查每一行是否存在缺失值\n",
    "null_values_row = X_train.isnull().any(axis=1)\n",
    "\n",
    "print(\"每一行是否存在缺失值情况：\")\n",
    "print(null_values_row)\n"
   ]
  },
  {
   "cell_type": "code",
   "execution_count": null,
   "metadata": {},
   "outputs": [],
   "source": []
  },
  {
   "cell_type": "code",
   "execution_count": null,
   "metadata": {},
   "outputs": [],
   "source": []
  },
  {
   "cell_type": "markdown",
   "metadata": {},
   "source": [
    "# practice实践"
   ]
  },
  {
   "cell_type": "code",
   "execution_count": 8,
   "metadata": {},
   "outputs": [
    {
     "name": "stdout",
     "output_type": "stream",
     "text": [
      "['A', 'B']\n",
      "['A', 'B']\n"
     ]
    }
   ],
   "source": [
    "data = {'A': [1, None, 3], 'B': [4, None, 6], 'C': [7, 8, 9]}\n",
    "X_train = pd.DataFrame(data)\n",
    "\n",
    "\n",
    "# Get names of columns with missing values\n",
    "cols_with_missing = [col for col in X_train.columns\n",
    "                     if X_train[col].isnull().any()]\n",
    "print(cols_with_missing)\n",
    "\n",
    "# Get names of columns with missing values(方法二)\n",
    "missing_val_count_by_column = (X_train.isnull().sum())\n",
    "columns=missing_val_count_by_column[missing_val_count_by_column > 0].index.to_list()\n",
    "print(columns)\n"
   ]
  }
 ],
 "metadata": {
  "kernelspec": {
   "display_name": "openCV",
   "language": "python",
   "name": "python3"
  },
  "language_info": {
   "codemirror_mode": {
    "name": "ipython",
    "version": 3
   },
   "file_extension": ".py",
   "mimetype": "text/x-python",
   "name": "python",
   "nbconvert_exporter": "python",
   "pygments_lexer": "ipython3",
   "version": "3.8.3"
  }
 },
 "nbformat": 4,
 "nbformat_minor": 2
}
