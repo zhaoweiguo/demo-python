{
 "cells": [
  {
   "cell_type": "markdown",
   "metadata": {},
   "source": [
    "# 简介\n",
    "\n",
    "用于对齐两个 DataFrame 或 Series 对象的索引（index）。\n",
    "\n",
    "```\n",
    "函数名称：pd.align\n",
    "函数功能：对两个 Pandas 对象进行对齐操作，使它们具有相同的行和列索引。\n",
    "参数：\n",
    "    join：指定对齐时使用的连接方式，默认为 'outer'，可选值为 'outer' 和 'inner'。\n",
    "    axis：指定对齐的轴方向，默认为 0（行方向），可选值为 0 和 1。\n",
    "    copy：指定是否复制输入数据，默认为 True，即返回对齐后的副本。\n",
    "返回值：对齐后的两个 Pandas 对象，具有相同的行和列索引。\n",
    "```"
   ]
  },
  {
   "cell_type": "code",
   "execution_count": 2,
   "metadata": {},
   "outputs": [
    {
     "name": "stdout",
     "output_type": "stream",
     "text": [
      "aligned_s1:\n",
      "a    1.0\n",
      "b    2.0\n",
      "c    3.0\n",
      "d    NaN\n",
      "dtype: float64\n",
      "aligned_s2:\n",
      "a    NaN\n",
      "b    4.0\n",
      "c    5.0\n",
      "d    6.0\n",
      "dtype: float64\n"
     ]
    }
   ],
   "source": [
    "import pandas as pd\n",
    "\n",
    "# 创建两个示例 Series 对象\n",
    "s1 = pd.Series([1, 2, 3], index=['a', 'b', 'c'])\n",
    "s2 = pd.Series([4, 5, 6], index=['b', 'c', 'd'])\n",
    "\n",
    "# 对齐两个 Series 对象的索引\n",
    "aligned_s1, aligned_s2 = s1.align(s2, join='outer')\n",
    "\n",
    "print(\"aligned_s1:\")\n",
    "print(aligned_s1)\n",
    "print(\"aligned_s2:\")\n",
    "print(aligned_s2)\n"
   ]
  },
  {
   "cell_type": "code",
   "execution_count": 5,
   "metadata": {},
   "outputs": [
    {
     "name": "stdout",
     "output_type": "stream",
     "text": [
      "对齐后的训练集：\n",
      "   A  B\n",
      "0  1  4\n",
      "1  2  5\n",
      "2  3  6\n",
      "====\n",
      "    A  B\n",
      "0 NaN  7\n",
      "1 NaN  8\n",
      "2 NaN  9\n",
      "对齐后的训练集：\n",
      "   A  B   C\n",
      "0  1  4 NaN\n",
      "1  2  5 NaN\n",
      "2  3  6 NaN\n",
      "====\n",
      "    A  B   C\n",
      "0 NaN  7  10\n",
      "1 NaN  8  11\n",
      "2 NaN  9  12\n"
     ]
    }
   ],
   "source": [
    "import pandas as pd\n",
    "\n",
    "# 创建训练集和验证集的 DataFrame\n",
    "X_train = pd.DataFrame({'A': [1, 2, 3],\n",
    "                        'B': [4, 5, 6]})\n",
    "X_valid = pd.DataFrame({'B': [7, 8, 9],\n",
    "                        'C': [10, 11, 12]})\n",
    "\n",
    "# 对训练集和验证集的特征进行对齐操作\n",
    "X_train_aligned, X_valid_aligned = X_train.align(X_valid, join='left', axis=1)\n",
    "print(\"对齐后的训练集：\")\n",
    "print(X_train_aligned)\n",
    "print('====')\n",
    "print(X_valid_aligned)\n",
    "\n",
    "\n",
    "\n",
    "X_train_aligned, X_valid_aligned = X_train.align(X_valid, join='outer', axis=1)\n",
    "print(\"对齐后的训练集：\")\n",
    "print(X_train_aligned)\n",
    "print('====')\n",
    "print(X_valid_aligned)"
   ]
  }
 ],
 "metadata": {
  "kernelspec": {
   "display_name": "openCV",
   "language": "python",
   "name": "python3"
  },
  "language_info": {
   "codemirror_mode": {
    "name": "ipython",
    "version": 3
   },
   "file_extension": ".py",
   "mimetype": "text/x-python",
   "name": "python",
   "nbconvert_exporter": "python",
   "pygments_lexer": "ipython3",
   "version": "3.8.3"
  }
 },
 "nbformat": 4,
 "nbformat_minor": 2
}
