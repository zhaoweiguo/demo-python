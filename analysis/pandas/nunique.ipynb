{
 "cells": [
  {
   "cell_type": "code",
   "execution_count": null,
   "metadata": {},
   "outputs": [],
   "source": []
  },
  {
   "cell_type": "markdown",
   "metadata": {},
   "source": [
    "# 简介\n",
    "\n",
    "- 用于计算 DataFrame 或 Series 中唯一值的数量（即不同值的数量）。具体而言，nunique() 返回指定轴上的唯一值的数量。\n",
    "```\n",
    "函数名称：nunique()\n",
    "作用：计算 DataFrame 或 Series 中唯一值的数量。\n",
    "参数：\n",
    "axis：指定计算唯一值数量的轴向。默认为 0，表示沿着列进行计算；设置为 1 表示沿着行进行计算。\n",
    "dropna：布尔值，指定是否在计算唯一值数量时排除缺失值。默认为 True，表示排除缺失值；设置为 False 表示包含缺失值在内进行计算。\n",
    "返回值：返回唯一值的数量。\n",
    "示例：\n",
    "对于 Series，s.nunique() 返回 Series 中唯一值的数量。\n",
    "对于 DataFrame，df.nunique() 返回每列中唯一值的数量。\n",
    "```\n",
    "\n"
   ]
  },
  {
   "cell_type": "code",
   "execution_count": 1,
   "metadata": {},
   "outputs": [
    {
     "name": "stdout",
     "output_type": "stream",
     "text": [
      "Series 中唯一值的数量： 4\n"
     ]
    }
   ],
   "source": [
    "import pandas as pd\n",
    "\n",
    "# 创建一个包含重复值的 Series\n",
    "s = pd.Series([1, 2, 2, 3, 3, 3, 4])\n",
    "\n",
    "# 计算 Series 中唯一值的数量\n",
    "unique_count = s.nunique()\n",
    "\n",
    "print(\"Series 中唯一值的数量：\", unique_count)"
   ]
  },
  {
   "cell_type": "code",
   "execution_count": 2,
   "metadata": {},
   "outputs": [
    {
     "name": "stdout",
     "output_type": "stream",
     "text": [
      "每列中唯一值的数量：\n",
      "A    3\n",
      "B    3\n",
      "C    3\n",
      "dtype: int64\n"
     ]
    }
   ],
   "source": [
    "import pandas as pd\n",
    "\n",
    "# 创建一个包含重复值的 DataFrame\n",
    "data = {'A': [1, 2, 2, 3],\n",
    "        'B': ['a', 'b', 'a', 'c'],\n",
    "        'C': ['x', 'y', 'x', 'z']}\n",
    "df = pd.DataFrame(data)\n",
    "\n",
    "# 计算每列中唯一值的数量\n",
    "unique_counts = df.nunique()\n",
    "\n",
    "print(\"每列中唯一值的数量：\")\n",
    "print(unique_counts)\n"
   ]
  }
 ],
 "metadata": {
  "kernelspec": {
   "display_name": "openCV",
   "language": "python",
   "name": "python3"
  },
  "language_info": {
   "codemirror_mode": {
    "name": "ipython",
    "version": 3
   },
   "file_extension": ".py",
   "mimetype": "text/x-python",
   "name": "python",
   "nbconvert_exporter": "python",
   "pygments_lexer": "ipython3",
   "version": "3.8.3"
  }
 },
 "nbformat": 4,
 "nbformat_minor": 2
}
