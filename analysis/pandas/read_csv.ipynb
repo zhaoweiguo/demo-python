{
 "cells": [
  {
   "cell_type": "markdown",
   "metadata": {},
   "source": [
    "# 简介\n",
    "\n",
    "pd.read_csv() 是 Pandas 库中用于读取 CSV 文件的函数。它能够将 CSV 文件中的数据加载到 DataFrame 中，以便进行进一步的数据分析和处理。\n",
    "\n",
    "```\n",
    "常用参数：\n",
    "    filepath_or_buffer：CSV 文件的路径或文件对象。\n",
    "    sep：字段分隔符，默认为逗号 ,。\n",
    "    header：指定哪一行作为列名，默认为第一行。\n",
    "    index_col：指定某列作为行索引。\n",
    "    usecols：选择需要读取的列。\n",
    "    dtype：指定列的数据类型。\n",
    "    true_values：指定 CSV 文件中表示 True 的字符串。\n",
    "    false_values：指定 CSV 文件中表示 False 的字符串。\n",
    "    skiprows：跳过读取文件时的前几行。\n",
    "    nrows：只读取指定的行数。\n",
    "```\n",
    "\n"
   ]
  },
  {
   "cell_type": "code",
   "execution_count": null,
   "metadata": {},
   "outputs": [],
   "source": [
    "import pandas as pd\n",
    "\n",
    "# 读取CSV文件，并将数据加载到DataFrame中\n",
    "data = pd.read_csv('example.csv')\n",
    "\n",
    "# 打印数据的前几行\n",
    "print(data.head())\n"
   ]
  },
  {
   "cell_type": "markdown",
   "metadata": {},
   "source": [
    "true_values 和 false_values 参数用于指定 CSV 文件中表示 True 和 False 值的字符串。当读取 CSV 文件时，Pandas 会将这些字符串转换为相应的布尔值 True 和 False。"
   ]
  },
  {
   "cell_type": "code",
   "execution_count": null,
   "metadata": {},
   "outputs": [],
   "source": [
    "import pandas as pd\n",
    "\n",
    "# 读取CSV文件，并指定true_values和false_values参数\n",
    "data = pd.read_csv('../input/aer-credit-card-data/AER_credit_card_data.csv', \n",
    "                   true_values=['yes'], false_values=['no'])\n",
    "\n",
    "# 打印数据的前几行\n",
    "print(data.head())\n"
   ]
  }
 ],
 "metadata": {
  "language_info": {
   "name": "python"
  }
 },
 "nbformat": 4,
 "nbformat_minor": 2
}
