{
 "cells": [
  {
   "cell_type": "code",
   "execution_count": 2,
   "metadata": {},
   "outputs": [
    {
     "name": "stdout",
     "output_type": "stream",
     "text": [
      "plus 原始列名：\n",
      "   A  B\n",
      "0  1  4\n",
      "1  2  5\n",
      "2  3  6\n",
      "\n",
      "plus 设置列名后的变化：\n",
      "   X  Y\n",
      "0  1  4\n",
      "1  2  5\n",
      "2  3  6\n"
     ]
    }
   ],
   "source": [
    "import pandas as pd\n",
    "\n",
    "# 创建两个 DataFrame\n",
    "plus = pd.DataFrame({'A': [1, 2, 3], 'B': [4, 5, 6]})\n",
    "sss = pd.DataFrame({'X': [7, 8, 9], 'Y': [10, 11, 12]})\n",
    "\n",
    "# 打印 plus 原始列名\n",
    "print(\"plus 原始列名：\")\n",
    "print(plus)\n",
    "\n",
    "# 将 plus 列名设置为 sss 的列名\n",
    "plus.columns = sss.columns\n",
    "\n",
    "# 打印 plus 设置列名后的变化\n",
    "print(\"\\nplus 设置列名后的变化：\")\n",
    "print(plus)\n"
   ]
  }
 ],
 "metadata": {
  "kernelspec": {
   "display_name": "openCV",
   "language": "python",
   "name": "python3"
  },
  "language_info": {
   "codemirror_mode": {
    "name": "ipython",
    "version": 3
   },
   "file_extension": ".py",
   "mimetype": "text/x-python",
   "name": "python",
   "nbconvert_exporter": "python",
   "pygments_lexer": "ipython3",
   "version": "3.8.3"
  }
 },
 "nbformat": 4,
 "nbformat_minor": 2
}
