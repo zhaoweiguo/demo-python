{
 "cells": [
  {
   "cell_type": "code",
   "execution_count": 1,
   "metadata": {},
   "outputs": [
    {
     "name": "stdout",
     "output_type": "stream",
     "text": [
      "DataFrame 中是否存在缺失值：\n",
      "A     True\n",
      "B     True\n",
      "C    False\n",
      "dtype: bool\n"
     ]
    }
   ],
   "source": [
    "\n",
    "# 检查 DataFrame 中是否存在缺失值：\n",
    "\n",
    "\n",
    "import pandas as pd\n",
    "\n",
    "# 创建一个 DataFrame\n",
    "data = {'A': [1, None, 3], 'B': [4, None, 6], 'C': [7, 8, 9]}\n",
    "X = pd.DataFrame(data)\n",
    "\n",
    "# 检查 DataFrame 中是否存在缺失值\n",
    "null_any = X.isnull().any()\n",
    "\n",
    "print(\"DataFrame 中是否存在缺失值：\")\n",
    "print(null_any)\n"
   ]
  },
  {
   "cell_type": "code",
   "execution_count": 2,
   "metadata": {},
   "outputs": [
    {
     "name": "stdout",
     "output_type": "stream",
     "text": [
      "每一列是否存在缺失值：\n",
      "A     True\n",
      "B     True\n",
      "C    False\n",
      "dtype: bool\n"
     ]
    }
   ],
   "source": [
    "# 检查每一列是否存在缺失值：\n",
    "\n",
    "\n",
    "import pandas as pd\n",
    "\n",
    "# 创建一个 DataFrame\n",
    "data = {'A': [1, None, 3], 'B': [4, None, 6], 'C': [7, 8, 9]}\n",
    "X = pd.DataFrame(data)\n",
    "\n",
    "# 检查每一列是否存在缺失值\n",
    "null_any_column = X.isnull().any(axis=0)\n",
    "\n",
    "print(\"每一列是否存在缺失值：\")\n",
    "print(null_any_column)\n"
   ]
  },
  {
   "cell_type": "code",
   "execution_count": 3,
   "metadata": {},
   "outputs": [
    {
     "name": "stdout",
     "output_type": "stream",
     "text": [
      "每一行是否存在缺失值：\n",
      "0    False\n",
      "1     True\n",
      "2    False\n",
      "dtype: bool\n"
     ]
    }
   ],
   "source": [
    "# 检查每一行是否存在缺失值：\n",
    "\n",
    "\n",
    "import pandas as pd\n",
    "\n",
    "# 创建一个 DataFrame\n",
    "data = {'A': [1, None, 3], 'B': [4, None, 6], 'C': [7, 8, 9]}\n",
    "X = pd.DataFrame(data)\n",
    "\n",
    "# 检查每一行是否存在缺失值\n",
    "null_any_row = X.isnull().any(axis=1)\n",
    "\n",
    "print(\"每一行是否存在缺失值：\")\n",
    "print(null_any_row)\n"
   ]
  }
 ],
 "metadata": {
  "kernelspec": {
   "display_name": "openCV",
   "language": "python",
   "name": "python3"
  },
  "language_info": {
   "codemirror_mode": {
    "name": "ipython",
    "version": 3
   },
   "file_extension": ".py",
   "mimetype": "text/x-python",
   "name": "python",
   "nbconvert_exporter": "python",
   "pygments_lexer": "ipython3",
   "version": "3.8.3"
  }
 },
 "nbformat": 4,
 "nbformat_minor": 2
}
