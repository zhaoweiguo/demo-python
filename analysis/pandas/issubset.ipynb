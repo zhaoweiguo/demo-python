{
 "cells": [
  {
   "cell_type": "code",
   "execution_count": null,
   "metadata": {},
   "outputs": [],
   "source": []
  },
  {
   "cell_type": "markdown",
   "metadata": {},
   "source": [
    "# 简介\n",
    "\n",
    "issubset() 函数是 Python 中的一个方法，用于检查一个集合是否是另一个集合的子集。如果集合 A 中的所有元素都包含在集合 B 中，则集合 A 是集合 B 的子集。\n",
    "\n"
   ]
  },
  {
   "cell_type": "code",
   "execution_count": 1,
   "metadata": {},
   "outputs": [
    {
     "name": "stdout",
     "output_type": "stream",
     "text": [
      "set1 是否是 set2 的子集？ True\n"
     ]
    }
   ],
   "source": [
    "# 创建两个集合\n",
    "set1 = {1, 2, 3}\n",
    "set2 = {1, 2, 3, 4, 5}\n",
    "\n",
    "# 使用 issubset() 函数检查 set1 是否是 set2 的子集\n",
    "result = set1.issubset(set2)\n",
    "\n",
    "print(\"set1 是否是 set2 的子集？\", result)\n"
   ]
  }
 ],
 "metadata": {
  "kernelspec": {
   "display_name": "openCV",
   "language": "python",
   "name": "python3"
  },
  "language_info": {
   "codemirror_mode": {
    "name": "ipython",
    "version": 3
   },
   "file_extension": ".py",
   "mimetype": "text/x-python",
   "name": "python",
   "nbconvert_exporter": "python",
   "pygments_lexer": "ipython3",
   "version": "3.8.3"
  }
 },
 "nbformat": 4,
 "nbformat_minor": 2
}
