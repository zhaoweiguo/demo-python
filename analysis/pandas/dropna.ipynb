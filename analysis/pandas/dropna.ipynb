{
 "cells": [
  {
   "cell_type": "code",
   "execution_count": 1,
   "metadata": {},
   "outputs": [],
   "source": [
    "import pandas as pd\n",
    "import numpy as np\n"
   ]
  },
  {
   "cell_type": "markdown",
   "metadata": {},
   "source": [
    "\n",
    "- data.dropna(axis=0)：沿着行的方向删除缺失值。这意味着删除包含缺失值的整行数据。\n",
    "- data.dropna(axis=1)：沿着列的方向删除缺失值。这意味着删除包含缺失值的整列数据。\n"
   ]
  },
  {
   "cell_type": "code",
   "execution_count": 3,
   "metadata": {},
   "outputs": [
    {
     "name": "stdout",
     "output_type": "stream",
     "text": [
      "删除缺失值后的 DataFrame（沿着行的方向）：\n",
      "     A    B    C  D\n",
      "0  1.0  5.0  6.0  9\n",
      "\n",
      "删除缺失值后的 DataFrame（沿着列的方向）：\n",
      "    D\n",
      "0   9\n",
      "1  10\n",
      "2  11\n",
      "3  12\n"
     ]
    }
   ],
   "source": [
    "data = pd.DataFrame({\n",
    "    'A': [1, 2, np.nan, 4],\n",
    "    'B': [5, np.nan, np.nan, 8],\n",
    "    'C': [6, np.nan, np.nan, np.nan],\n",
    "    'D': [9, 10, 11, 12]\n",
    "})\n",
    "# 使用 dropna() 方法删除缺失值，分别沿着行和列的方向\n",
    "# 沿着行的方向删除缺失值\n",
    "data_drop_rows = data.dropna(axis=0)\n",
    "print(\"删除缺失值后的 DataFrame（沿着行的方向）：\")\n",
    "print(data_drop_rows)\n",
    "\n",
    "# 沿着列的方向删除缺失值\n",
    "data_drop_cols = data.dropna(axis=1)\n",
    "print(\"\\n删除缺失值后的 DataFrame（沿着列的方向）：\")\n",
    "print(data_drop_cols)\n"
   ]
  },
  {
   "cell_type": "markdown",
   "metadata": {},
   "source": [
    "- 删除指定列中包含缺失值的行(使用``subset``参数)"
   ]
  },
  {
   "cell_type": "code",
   "execution_count": 2,
   "metadata": {},
   "outputs": [
    {
     "name": "stdout",
     "output_type": "stream",
     "text": [
      "删除指定列中包含缺失值的行后的 DataFrame：\n",
      "     A    B  C\n",
      "0  1.0  4.0  7\n",
      "2  3.0  NaN  9\n"
     ]
    }
   ],
   "source": [
    "import pandas as pd\n",
    "\n",
    "# 创建一个包含缺失值的 DataFrame\n",
    "data = {'A': [1, None, 3], 'B': [4, 5, None], 'C': [7, 8, 9]}\n",
    "df = pd.DataFrame(data)\n",
    "\n",
    "# 删除指定列中包含缺失值的行\n",
    "df_dropped = df.dropna(subset=['A', 'C'])\n",
    "\n",
    "print(\"删除指定列中包含缺失值的行后的 DataFrame：\")\n",
    "print(df_dropped)\n"
   ]
  },
  {
   "cell_type": "markdown",
   "metadata": {},
   "source": [
    "- 将 inplace 参数设置为 True，表示在原地修改 DataFrame。\n",
    "- 因此，df 本身被修改了，不再存在包含缺失值的行。"
   ]
  },
  {
   "cell_type": "code",
   "execution_count": 3,
   "metadata": {},
   "outputs": [
    {
     "name": "stdout",
     "output_type": "stream",
     "text": [
      "修改后的 DataFrame：\n",
      "     A    B    C\n",
      "0  1.0  4.0  7.0\n"
     ]
    }
   ],
   "source": [
    "import pandas as pd\n",
    "\n",
    "# 创建一个包含缺失值的 DataFrame\n",
    "data = {'A': [1, None, 3], 'B': [4, 5, None], 'C': [7, 8, None]}\n",
    "df = pd.DataFrame(data)\n",
    "\n",
    "# 将 inplace 参数设置为 True，表示在原地修改 DataFrame\n",
    "df.dropna(inplace=True)\n",
    "\n",
    "# 打印修改后的 DataFrame\n",
    "print(\"修改后的 DataFrame：\")\n",
    "print(df)\n"
   ]
  }
 ],
 "metadata": {
  "kernelspec": {
   "display_name": "openCV",
   "language": "python",
   "name": "python3"
  },
  "language_info": {
   "codemirror_mode": {
    "name": "ipython",
    "version": 3
   },
   "file_extension": ".py",
   "mimetype": "text/x-python",
   "name": "python",
   "nbconvert_exporter": "python",
   "pygments_lexer": "ipython3",
   "version": "3.8.3"
  }
 },
 "nbformat": 4,
 "nbformat_minor": 2
}
